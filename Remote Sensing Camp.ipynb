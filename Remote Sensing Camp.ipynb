{
 "cells": [
  {
   "cell_type": "markdown",
   "id": "48fbfb00-d418-463f-bed3-055732373b23",
   "metadata": {
    "slideshow": {
     "slide_type": "slide"
    }
   },
   "source": [
    "## Python libraries in this workshop\n",
    "\n",
    "- [pandas](https://pandas.pydata.org/docs/getting_started/index.html)\n",
    "- [geopandas](https://geopandas.org/en/stable/gallery/index.html)\n",
    "- [google earth engine](https://developers.google.com/earth-engine/tutorials/community/intro-to-python-api-guiattard)\n"
   ]
  },
  {
   "cell_type": "markdown",
   "id": "retired-flash",
   "metadata": {
    "slideshow": {
     "slide_type": "slide"
    }
   },
   "source": [
    "## Import libraries"
   ]
  },
  {
   "cell_type": "code",
   "execution_count": 2,
   "id": "racial-likelihood",
   "metadata": {
    "slideshow": {
     "slide_type": "-"
    }
   },
   "outputs": [],
   "source": [
    "# the regulars\n",
    "import pandas as pd\n",
    "import geopandas as gpd\n",
    "import os\n",
    "# earth engine\n",
    "import ee\n",
    "import json\n",
    "from ee.ee_exception import EEException\n",
    "from dotenv import load_dotenv\n",
    "# Load the configuration variables from the .env file\n",
    "load_dotenv()\n",
    "# allow images to display in the notebook\n",
    "from IPython.display import Image"
   ]
  },
  {
   "cell_type": "code",
   "execution_count": 3,
   "id": "f4fd04dc",
   "metadata": {},
   "outputs": [],
   "source": [
    "private_key_file_path = os.getenv('GEE_SERVICE_ACCOUNT_PATH')\n",
    "\n",
    "def geeAuthCredentials():\n",
    "    #// todo - setup env for gee auth path to json service account file\n",
    "    with open(private_key_file_path,  'r') as file:\n",
    "        data = json.load(file)\n",
    "    return data"
   ]
  },
  {
   "cell_type": "markdown",
   "id": "otherwise-figure",
   "metadata": {
    "slideshow": {
     "slide_type": "slide"
    }
   },
   "source": [
    "## Authenticate Earth Engine"
   ]
  },
  {
   "cell_type": "code",
   "execution_count": 4,
   "id": "existing-generic",
   "metadata": {
    "slideshow": {
     "slide_type": "-"
    }
   },
   "outputs": [],
   "source": [
    "private_key_json = geeAuthCredentials()\n",
    "service_account = private_key_json['client_email']\n",
    "\n",
    "try:\n",
    "    credentials = ee.ServiceAccountCredentials(service_account, private_key_file_path)\n",
    "    ee.Initialize(credentials)\n",
    "except EEException as e:\n",
    "    print(str(e))"
   ]
  },
  {
   "cell_type": "markdown",
   "id": "returning-bracket",
   "metadata": {
    "slideshow": {
     "slide_type": "slide"
    }
   },
   "source": [
    "For this lab, we will use Google Earth Engine's \"USGS Landsat 8 Level 2, Collection 2, Tier 1\"\n",
    "\n",
    "- [EE Landsat 8](https://developers.google.com/earth-engine/datasets/catalog/LANDSAT_LC08_C02_T1_L2)\n",
    "\n",
    "You can also:\n",
    "\n",
    "- `.filterBounds()` method allows you to filter by location\n",
    "- `.filterDate()` allows you to filter by date"
   ]
  },
  {
   "cell_type": "markdown",
   "id": "seventh-theme",
   "metadata": {
    "slideshow": {
     "slide_type": "slide"
    }
   },
   "source": [
    "## Define filters"
   ]
  },
  {
   "cell_type": "code",
   "execution_count": 5,
   "id": "legitimate-phrase",
   "metadata": {
    "slideshow": {
     "slide_type": "-"
    }
   },
   "outputs": [],
   "source": [
    "# coordinates of the Camp Fire\n",
    "lat =  39.444012\n",
    "lon = -121.833619\n",
    "\n",
    "# point of interest as an ee.Geometry\n",
    "poi = ee.Geometry.Point(lon,lat)\n",
    "\n",
    "# start date of range to filter for\n",
    "start_date = '2018-10-01'\n",
    "\n",
    "# end date\n",
    "end_date = '2019-01-31'"
   ]
  },
  {
   "cell_type": "markdown",
   "id": "reverse-immune",
   "metadata": {
    "slideshow": {
     "slide_type": "slide"
    }
   },
   "source": [
    "## Get Landsat 8 data"
   ]
  },
  {
   "cell_type": "code",
   "execution_count": 6,
   "id": "30ff58b6-e303-4f3a-93fe-0f54993d3b04",
   "metadata": {
    "slideshow": {
     "slide_type": "-"
    }
   },
   "outputs": [],
   "source": [
    "# get the satellite data\n",
    "landsat = ee.ImageCollection(\"LANDSAT/LC08/C02/T1_L2\")\\\n",
    "            .filterBounds(poi)\\\n",
    "            .filterDate(start_date,end_date)\n",
    "            \n",
    "            \n",
    "# Load the Sentinel-2 image collection\n",
    "sentinel = ee.ImageCollection('COPERNICUS/S2_SR')\\\n",
    "            .filterBounds(poi)\\\n",
    "            .filterDate(start_date,end_date)"
   ]
  },
  {
   "cell_type": "code",
   "execution_count": 7,
   "id": "invisible-amplifier",
   "metadata": {
    "slideshow": {
     "slide_type": "slide"
    }
   },
   "outputs": [
    {
     "name": "stdout",
     "output_type": "stream",
     "text": [
      "Total number: 8\n",
      "Total number: 20\n"
     ]
    }
   ],
   "source": [
    "# how many images did we get?\n",
    "print('Total number:', landsat.size().getInfo())\n",
    "\n",
    "print('Total number:', sentinel.size().getInfo())"
   ]
  },
  {
   "cell_type": "code",
   "execution_count": 10,
   "id": "jewish-dakota",
   "metadata": {
    "slideshow": {
     "slide_type": "slide"
    }
   },
   "outputs": [
    {
     "data": {
      "text/plain": [
       "{'type': 'Image',\n",
       " 'bands': [{'id': 'B1',\n",
       "   'data_type': {'type': 'PixelType',\n",
       "    'precision': 'int',\n",
       "    'min': 0,\n",
       "    'max': 65535},\n",
       "   'dimensions': [1830, 1830],\n",
       "   'crs': 'EPSG:32610',\n",
       "   'crs_transform': [60, 0, 499980, 0, -60, 4400040]},\n",
       "  {'id': 'B2',\n",
       "   'data_type': {'type': 'PixelType',\n",
       "    'precision': 'int',\n",
       "    'min': 0,\n",
       "    'max': 65535},\n",
       "   'dimensions': [10980, 10980],\n",
       "   'crs': 'EPSG:32610',\n",
       "   'crs_transform': [10, 0, 499980, 0, -10, 4400040]},\n",
       "  {'id': 'B3',\n",
       "   'data_type': {'type': 'PixelType',\n",
       "    'precision': 'int',\n",
       "    'min': 0,\n",
       "    'max': 65535},\n",
       "   'dimensions': [10980, 10980],\n",
       "   'crs': 'EPSG:32610',\n",
       "   'crs_transform': [10, 0, 499980, 0, -10, 4400040]},\n",
       "  {'id': 'B4',\n",
       "   'data_type': {'type': 'PixelType',\n",
       "    'precision': 'int',\n",
       "    'min': 0,\n",
       "    'max': 65535},\n",
       "   'dimensions': [10980, 10980],\n",
       "   'crs': 'EPSG:32610',\n",
       "   'crs_transform': [10, 0, 499980, 0, -10, 4400040]},\n",
       "  {'id': 'B5',\n",
       "   'data_type': {'type': 'PixelType',\n",
       "    'precision': 'int',\n",
       "    'min': 0,\n",
       "    'max': 65535},\n",
       "   'dimensions': [5490, 5490],\n",
       "   'crs': 'EPSG:32610',\n",
       "   'crs_transform': [20, 0, 499980, 0, -20, 4400040]},\n",
       "  {'id': 'B6',\n",
       "   'data_type': {'type': 'PixelType',\n",
       "    'precision': 'int',\n",
       "    'min': 0,\n",
       "    'max': 65535},\n",
       "   'dimensions': [5490, 5490],\n",
       "   'crs': 'EPSG:32610',\n",
       "   'crs_transform': [20, 0, 499980, 0, -20, 4400040]},\n",
       "  {'id': 'B7',\n",
       "   'data_type': {'type': 'PixelType',\n",
       "    'precision': 'int',\n",
       "    'min': 0,\n",
       "    'max': 65535},\n",
       "   'dimensions': [5490, 5490],\n",
       "   'crs': 'EPSG:32610',\n",
       "   'crs_transform': [20, 0, 499980, 0, -20, 4400040]},\n",
       "  {'id': 'B8',\n",
       "   'data_type': {'type': 'PixelType',\n",
       "    'precision': 'int',\n",
       "    'min': 0,\n",
       "    'max': 65535},\n",
       "   'dimensions': [10980, 10980],\n",
       "   'crs': 'EPSG:32610',\n",
       "   'crs_transform': [10, 0, 499980, 0, -10, 4400040]},\n",
       "  {'id': 'B8A',\n",
       "   'data_type': {'type': 'PixelType',\n",
       "    'precision': 'int',\n",
       "    'min': 0,\n",
       "    'max': 65535},\n",
       "   'dimensions': [5490, 5490],\n",
       "   'crs': 'EPSG:32610',\n",
       "   'crs_transform': [20, 0, 499980, 0, -20, 4400040]},\n",
       "  {'id': 'B9',\n",
       "   'data_type': {'type': 'PixelType',\n",
       "    'precision': 'int',\n",
       "    'min': 0,\n",
       "    'max': 65535},\n",
       "   'dimensions': [1830, 1830],\n",
       "   'crs': 'EPSG:32610',\n",
       "   'crs_transform': [60, 0, 499980, 0, -60, 4400040]},\n",
       "  {'id': 'B11',\n",
       "   'data_type': {'type': 'PixelType',\n",
       "    'precision': 'int',\n",
       "    'min': 0,\n",
       "    'max': 65535},\n",
       "   'dimensions': [5490, 5490],\n",
       "   'crs': 'EPSG:32610',\n",
       "   'crs_transform': [20, 0, 499980, 0, -20, 4400040]},\n",
       "  {'id': 'B12',\n",
       "   'data_type': {'type': 'PixelType',\n",
       "    'precision': 'int',\n",
       "    'min': 0,\n",
       "    'max': 65535},\n",
       "   'dimensions': [5490, 5490],\n",
       "   'crs': 'EPSG:32610',\n",
       "   'crs_transform': [20, 0, 499980, 0, -20, 4400040]},\n",
       "  {'id': 'AOT',\n",
       "   'data_type': {'type': 'PixelType',\n",
       "    'precision': 'int',\n",
       "    'min': 0,\n",
       "    'max': 65535},\n",
       "   'dimensions': [10980, 10980],\n",
       "   'crs': 'EPSG:32610',\n",
       "   'crs_transform': [10, 0, 499980, 0, -10, 4400040]},\n",
       "  {'id': 'WVP',\n",
       "   'data_type': {'type': 'PixelType',\n",
       "    'precision': 'int',\n",
       "    'min': 0,\n",
       "    'max': 65535},\n",
       "   'dimensions': [10980, 10980],\n",
       "   'crs': 'EPSG:32610',\n",
       "   'crs_transform': [10, 0, 499980, 0, -10, 4400040]},\n",
       "  {'id': 'SCL',\n",
       "   'data_type': {'type': 'PixelType',\n",
       "    'precision': 'int',\n",
       "    'min': 0,\n",
       "    'max': 255},\n",
       "   'dimensions': [5490, 5490],\n",
       "   'crs': 'EPSG:32610',\n",
       "   'crs_transform': [20, 0, 499980, 0, -20, 4400040]},\n",
       "  {'id': 'TCI_R',\n",
       "   'data_type': {'type': 'PixelType',\n",
       "    'precision': 'int',\n",
       "    'min': 0,\n",
       "    'max': 255},\n",
       "   'dimensions': [10980, 10980],\n",
       "   'crs': 'EPSG:32610',\n",
       "   'crs_transform': [10, 0, 499980, 0, -10, 4400040]},\n",
       "  {'id': 'TCI_G',\n",
       "   'data_type': {'type': 'PixelType',\n",
       "    'precision': 'int',\n",
       "    'min': 0,\n",
       "    'max': 255},\n",
       "   'dimensions': [10980, 10980],\n",
       "   'crs': 'EPSG:32610',\n",
       "   'crs_transform': [10, 0, 499980, 0, -10, 4400040]},\n",
       "  {'id': 'TCI_B',\n",
       "   'data_type': {'type': 'PixelType',\n",
       "    'precision': 'int',\n",
       "    'min': 0,\n",
       "    'max': 255},\n",
       "   'dimensions': [10980, 10980],\n",
       "   'crs': 'EPSG:32610',\n",
       "   'crs_transform': [10, 0, 499980, 0, -10, 4400040]},\n",
       "  {'id': 'MSK_CLDPRB',\n",
       "   'data_type': {'type': 'PixelType',\n",
       "    'precision': 'int',\n",
       "    'min': 0,\n",
       "    'max': 255},\n",
       "   'dimensions': [5490, 5490],\n",
       "   'crs': 'EPSG:32610',\n",
       "   'crs_transform': [20, 0, 499980, 0, -20, 4400040]},\n",
       "  {'id': 'MSK_SNWPRB',\n",
       "   'data_type': {'type': 'PixelType',\n",
       "    'precision': 'int',\n",
       "    'min': 0,\n",
       "    'max': 255},\n",
       "   'dimensions': [5490, 5490],\n",
       "   'crs': 'EPSG:32610',\n",
       "   'crs_transform': [20, 0, 499980, 0, -20, 4400040]},\n",
       "  {'id': 'QA10',\n",
       "   'data_type': {'type': 'PixelType',\n",
       "    'precision': 'int',\n",
       "    'min': 0,\n",
       "    'max': 65535},\n",
       "   'dimensions': [10980, 10980],\n",
       "   'crs': 'EPSG:32610',\n",
       "   'crs_transform': [10, 0, 499980, 0, -10, 4400040]},\n",
       "  {'id': 'QA20',\n",
       "   'data_type': {'type': 'PixelType',\n",
       "    'precision': 'int',\n",
       "    'min': 0,\n",
       "    'max': 4294967295},\n",
       "   'dimensions': [5490, 5490],\n",
       "   'crs': 'EPSG:32610',\n",
       "   'crs_transform': [20, 0, 499980, 0, -20, 4400040]},\n",
       "  {'id': 'QA60',\n",
       "   'data_type': {'type': 'PixelType',\n",
       "    'precision': 'int',\n",
       "    'min': 0,\n",
       "    'max': 65535},\n",
       "   'dimensions': [1830, 1830],\n",
       "   'crs': 'EPSG:32610',\n",
       "   'crs_transform': [60, 0, 499980, 0, -60, 4400040]}],\n",
       " 'id': 'COPERNICUS/S2_SR/20181216T185759_20181216T185801_T10SEJ',\n",
       " 'version': 1557026359600249,\n",
       " 'properties': {'DATATAKE_IDENTIFIER': 'GS2B_20181216T185759_009291_N02.11',\n",
       "  'AOT_RETRIEVAL_ACCURACY': 0,\n",
       "  'SPACECRAFT_NAME': 'Sentinel-2B',\n",
       "  'SATURATED_DEFECTIVE_PIXEL_PERCENTAGE': 0,\n",
       "  'MEAN_INCIDENCE_AZIMUTH_ANGLE_B8A': 106.68687451,\n",
       "  'CLOUD_SHADOW_PERCENTAGE': 0,\n",
       "  'MEAN_SOLAR_AZIMUTH_ANGLE': 164.286588493,\n",
       "  'system:footprint': {'type': 'LinearRing',\n",
       "   'coordinates': [[-121.71892233544389, 39.74328565501879],\n",
       "    [-121.71894155686621, 39.7432886133798],\n",
       "    [-122.95681084809227, 39.750349895796745],\n",
       "    [-122.95684454565352, 39.750327126158375],\n",
       "    [-122.95688933244567, 39.750326708550006],\n",
       "    [-122.95690841625502, 39.750309722404396],\n",
       "    [-122.95971644733362, 39.747061598901],\n",
       "    [-122.97234095270254, 39.726505238140234],\n",
       "    [-122.9863581250984, 39.66594637884836],\n",
       "    [-122.99475543525558, 39.62702144512484],\n",
       "    [-122.99964957239183, 39.60323312155814],\n",
       "    [-123.0003496972123, 39.59944175964411],\n",
       "    [-123.00034557278006, 38.7610447026598],\n",
       "    [-123.00029874327697, 38.7610032212007],\n",
       "    [-123.00025638189098, 38.760954683132475],\n",
       "    [-121.7368253604962, 38.75412870225972],\n",
       "    [-121.73677153168487, 38.754164763146825],\n",
       "    [-121.73670865890487, 38.754197071887354],\n",
       "    [-121.72788211887182, 39.24872939609277],\n",
       "    [-121.71883596946499, 39.74319751342745],\n",
       "    [-121.71888276191699, 39.74323949413866],\n",
       "    [-121.71892233544389, 39.74328565501879]]},\n",
       "  'VEGETATION_PERCENTAGE': 0,\n",
       "  'SOLAR_IRRADIANCE_B12': 87.75,\n",
       "  'SOLAR_IRRADIANCE_B10': 365.41,\n",
       "  'SENSOR_QUALITY': 'PASSED',\n",
       "  'SOLAR_IRRADIANCE_B11': 247.08,\n",
       "  'GENERATION_TIME': 1544995027000,\n",
       "  'SOLAR_IRRADIANCE_B8A': 953.93,\n",
       "  'FORMAT_CORRECTNESS': 'PASSED',\n",
       "  'CLOUD_COVERAGE_ASSESSMENT': 90.266842,\n",
       "  'THIN_CIRRUS_PERCENTAGE': 0.945461,\n",
       "  'system:time_end': 1544987014000,\n",
       "  'WATER_VAPOUR_RETRIEVAL_ACCURACY': 0,\n",
       "  'system:time_start': 1544987014000,\n",
       "  'DATASTRIP_ID': 'S2B_OPER_MSI_L2A_DS_SGS__20181216T211707_S20181216T185801_N02.11',\n",
       "  'PROCESSING_BASELINE': '02.11',\n",
       "  'SENSING_ORBIT_NUMBER': 113,\n",
       "  'NODATA_PIXEL_PERCENTAGE': 0.293708,\n",
       "  'SENSING_ORBIT_DIRECTION': 'DESCENDING',\n",
       "  'GENERAL_QUALITY': 'PASSED',\n",
       "  'GRANULE_ID': 'L2A_T10SEJ_A009291_20181216T185801',\n",
       "  'REFLECTANCE_CONVERSION_CORRECTION': 1.03194111246,\n",
       "  'MEDIUM_PROBA_CLOUDS_PERCENTAGE': 60.891944,\n",
       "  'MEAN_INCIDENCE_AZIMUTH_ANGLE_B8': 105.875417049,\n",
       "  'DATATAKE_TYPE': 'INS-NOBS',\n",
       "  'MEAN_INCIDENCE_AZIMUTH_ANGLE_B9': 106.881481952,\n",
       "  'MEAN_INCIDENCE_AZIMUTH_ANGLE_B6': 106.48196458,\n",
       "  'MEAN_INCIDENCE_AZIMUTH_ANGLE_B7': 106.594599643,\n",
       "  'MEAN_INCIDENCE_AZIMUTH_ANGLE_B4': 106.260528677,\n",
       "  'MEAN_INCIDENCE_ZENITH_ANGLE_B1': 7.11010840261,\n",
       "  'NOT_VEGETATED_PERCENTAGE': 0.005341,\n",
       "  'MEAN_INCIDENCE_AZIMUTH_ANGLE_B5': 106.394494546,\n",
       "  'RADIOMETRIC_QUALITY': 'PASSED',\n",
       "  'MEAN_INCIDENCE_AZIMUTH_ANGLE_B2': 105.714079737,\n",
       "  'MEAN_INCIDENCE_AZIMUTH_ANGLE_B3': 106.014497657,\n",
       "  'MEAN_INCIDENCE_ZENITH_ANGLE_B5': 6.96007939448,\n",
       "  'MEAN_INCIDENCE_AZIMUTH_ANGLE_B1': 106.836077572,\n",
       "  'MEAN_INCIDENCE_ZENITH_ANGLE_B4': 6.9316427765,\n",
       "  'MEAN_INCIDENCE_ZENITH_ANGLE_B3': 6.8911346925,\n",
       "  'MEAN_INCIDENCE_ZENITH_ANGLE_B2': 6.85085336903,\n",
       "  'MEAN_INCIDENCE_ZENITH_ANGLE_B9': 7.15274575454,\n",
       "  'MEAN_INCIDENCE_ZENITH_ANGLE_B8': 6.86660091133,\n",
       "  'MEAN_INCIDENCE_ZENITH_ANGLE_B7': 7.03144448613,\n",
       "  'DARK_FEATURES_PERCENTAGE': 1.187675,\n",
       "  'HIGH_PROBA_CLOUDS_PERCENTAGE': 28.429437,\n",
       "  'MEAN_INCIDENCE_ZENITH_ANGLE_B6': 6.99685954451,\n",
       "  'UNCLASSIFIED_PERCENTAGE': 0.002952,\n",
       "  'MEAN_SOLAR_ZENITH_ANGLE': 64.2243184951,\n",
       "  'MEAN_INCIDENCE_ZENITH_ANGLE_B8A': 7.06885474822,\n",
       "  'RADIATIVE_TRANSFER_ACCURACY': 0,\n",
       "  'MGRS_TILE': '10SEJ',\n",
       "  'CLOUDY_PIXEL_PERCENTAGE': 90.266842,\n",
       "  'PRODUCT_ID': 'S2B_MSIL2A_20181216T185759_N0211_R113_T10SEJ_20181216T211707',\n",
       "  'MEAN_INCIDENCE_ZENITH_ANGLE_B10': 6.91966430501,\n",
       "  'SOLAR_IRRADIANCE_B9': 817.58,\n",
       "  'SNOW_ICE_PERCENTAGE': 8.53463,\n",
       "  'DEGRADED_MSI_DATA_PERCENTAGE': 0,\n",
       "  'MEAN_INCIDENCE_ZENITH_ANGLE_B11': 6.99375961987,\n",
       "  'MEAN_INCIDENCE_ZENITH_ANGLE_B12': 7.08329631879,\n",
       "  'SOLAR_IRRADIANCE_B6': 1291.13,\n",
       "  'MEAN_INCIDENCE_AZIMUTH_ANGLE_B10': 106.309065539,\n",
       "  'SOLAR_IRRADIANCE_B5': 1425.78,\n",
       "  'MEAN_INCIDENCE_AZIMUTH_ANGLE_B11': 106.560038823,\n",
       "  'SOLAR_IRRADIANCE_B8': 1041.28,\n",
       "  'MEAN_INCIDENCE_AZIMUTH_ANGLE_B12': 106.747363702,\n",
       "  'SOLAR_IRRADIANCE_B7': 1175.57,\n",
       "  'SOLAR_IRRADIANCE_B2': 1959.77,\n",
       "  'SOLAR_IRRADIANCE_B1': 1874.3,\n",
       "  'SOLAR_IRRADIANCE_B4': 1512.79,\n",
       "  'GEOMETRIC_QUALITY': 'PASSED',\n",
       "  'SOLAR_IRRADIANCE_B3': 1824.93,\n",
       "  'system:asset_size': 1134822789,\n",
       "  'WATER_PERCENTAGE': 0.002562,\n",
       "  'system:index': '20181216T185759_20181216T185801_T10SEJ'}}"
      ]
     },
     "execution_count": 10,
     "metadata": {},
     "output_type": "execute_result"
    }
   ],
   "source": [
    "# information about the first image in our collection\n",
    "landsat.first().getInfo()\n",
    "sentinel.first().getInfo()"
   ]
  },
  {
   "cell_type": "code",
   "execution_count": 11,
   "id": "velvet-transport",
   "metadata": {
    "slideshow": {
     "slide_type": "slide"
    }
   },
   "outputs": [
    {
     "data": {
      "text/plain": [
       "0.05"
      ]
     },
     "execution_count": 11,
     "metadata": {},
     "output_type": "execute_result"
    }
   ],
   "source": [
    "# what about cloud cover of our first image?\n",
    "landsat.first().get('CLOUD_COVER').getInfo()"
   ]
  },
  {
   "cell_type": "code",
   "execution_count": 12,
   "id": "cbddaf7e",
   "metadata": {
    "slideshow": {
     "slide_type": "slide"
    }
   },
   "outputs": [
    {
     "data": {
      "text/plain": [
       "'2018-10-07'"
      ]
     },
     "execution_count": 12,
     "metadata": {},
     "output_type": "execute_result"
    }
   ],
   "source": [
    "# when was this image taken?\n",
    "landsat.first().get('DATE_ACQUIRED').getInfo()"
   ]
  },
  {
   "cell_type": "markdown",
   "id": "70a9a68e",
   "metadata": {
    "slideshow": {
     "slide_type": "slide"
    }
   },
   "source": [
    "## Bands\n",
    "<img src=\"https://prd-wret.s3.us-west-2.amazonaws.com/assets/palladium/production/s3fs-public/thumbnails/image/Landsat%208%20band%20designations.jpg\" width=800>\n",
    "\n",
    "[Source: USGS](https://www.usgs.gov/media/images/landsat-8-band-designations)\n"
   ]
  },
  {
   "cell_type": "markdown",
   "id": "ranking-architecture",
   "metadata": {
    "slideshow": {
     "slide_type": "slide"
    }
   },
   "source": [
    "<img src=\"images/bands.jpg\" width=1000>\n",
    "\n",
    "[Source: Satellite Imaging Corporation](https://www.satimagingcorp.com/satellite-sensors/worldview-3/)"
   ]
  },
  {
   "cell_type": "code",
   "execution_count": 13,
   "id": "surprising-bleeding",
   "metadata": {
    "slideshow": {
     "slide_type": "slide"
    }
   },
   "outputs": [
    {
     "data": {
      "text/plain": [
       "['B1',\n",
       " 'B2',\n",
       " 'B3',\n",
       " 'B4',\n",
       " 'B5',\n",
       " 'B6',\n",
       " 'B7',\n",
       " 'B8',\n",
       " 'B8A',\n",
       " 'B9',\n",
       " 'B11',\n",
       " 'B12',\n",
       " 'AOT',\n",
       " 'WVP',\n",
       " 'SCL',\n",
       " 'TCI_R',\n",
       " 'TCI_G',\n",
       " 'TCI_B',\n",
       " 'MSK_CLDPRB',\n",
       " 'MSK_SNWPRB',\n",
       " 'QA10',\n",
       " 'QA20',\n",
       " 'QA60']"
      ]
     },
     "execution_count": 13,
     "metadata": {},
     "output_type": "execute_result"
    }
   ],
   "source": [
    "# what bands did we get?\n",
    "landsat.first().bandNames().getInfo()\n",
    "sentinel.first().bandNames().getInfo()"
   ]
  },
  {
   "cell_type": "code",
   "execution_count": 14,
   "id": "inclusive-blame",
   "metadata": {
    "slideshow": {
     "slide_type": "fragment"
    }
   },
   "outputs": [],
   "source": [
    "# put the images in a list\n",
    "landsat_list = landsat.toList(landsat.size())\n",
    "sentinel_list = sentinel.toList(sentinel.size())"
   ]
  },
  {
   "cell_type": "markdown",
   "id": "compact-childhood",
   "metadata": {
    "slideshow": {
     "slide_type": "slide"
    }
   },
   "source": [
    "## Display satellite image\n",
    "\n",
    "- [What are the min/max values?](https://gis.stackexchange.com/questions/304180/what-are-the-min-and-max-values-of-map-addlayer-on-google-earth-engine)"
   ]
  },
  {
   "cell_type": "code",
   "execution_count": 31,
   "id": "recreational-feeding",
   "metadata": {},
   "outputs": [],
   "source": [
    "# set some parameters for the images\n",
    "parameters = {\n",
    "   'min': 7000,\n",
    "   'max': 16000,\n",
    "   'dimensions': 800, # square size in pixels\n",
    "   'bands': ['B4', 'B3', 'B3'], # bands to display (r,g,b),\n",
    "   'gamma': 1.0\n",
    "}"
   ]
  },
  {
   "cell_type": "code",
   "execution_count": 32,
   "id": "a9a1a319",
   "metadata": {},
   "outputs": [],
   "source": [
    "def get_acquisition_time(image):\n",
    "    # Get the image acquisition time metadata\n",
    "    acquisition_time = ee.Date(image.get('system:time_start'))\n",
    "    \n",
    "    # Format the acquisition time as a string\n",
    "    acquisition_time_str = acquisition_time.format('YYYY-MM-dd HH:mm:ss')\n",
    "    \n",
    "    return acquisition_time_str"
   ]
  },
  {
   "cell_type": "code",
   "execution_count": 35,
   "id": "bbc0cd9c",
   "metadata": {},
   "outputs": [
    {
     "name": "stdout",
     "output_type": "stream",
     "text": [
      "Image # 0 None Cloud cover: None\n"
     ]
    },
    {
     "data": {
      "text/html": [
       "<img src=\"https://earthengine.googleapis.com/v1alpha/projects/earthengine-legacy/thumbnails/d35c0302052a9efb5750177f90f2c23e-e958e91ba79bfce1e740f636ef750ce3:getPixels\"/>"
      ],
      "text/plain": [
       "<IPython.core.display.Image object>"
      ]
     },
     "metadata": {},
     "output_type": "display_data"
    }
   ],
   "source": [
    "# create an empty data container\n",
    "data = []\n",
    "\n",
    "# loop through each image and display it\n",
    "for i in range(sentinel.size().getInfo()):\n",
    "\n",
    "    # when was this image taken?\n",
    "    date = ee.Image(sentinel_list.get(11)).get('DATE_ACQUIRED').getInfo()\n",
    "    \n",
    "    # cloud cover\n",
    "    cloud = ee.Image(sentinel_list.get(i)).get('CLOUD_COVER').getInfo()\n",
    "    \n",
    "    # print the image info\n",
    "    print('Image #',i,date,'Cloud cover:',cloud)\n",
    "    \n",
    "    # display the image\n",
    "    display(Image(url = ee.Image(sentinel_list.get(i)).getThumbUrl(parameters)))\n",
    "\n",
    "    # data to list\n",
    "    this_data = [i,date,cloud]\n",
    "\n",
    "    # append the data \n",
    "    data.append(this_data)\n",
    "    break\n",
    "    \n",
    "\n",
    "# Create the pandas DataFrame\n",
    "df = pd.DataFrame(data, columns = ['Image #', 'Date', 'Cloud Cover'])"
   ]
  },
  {
   "cell_type": "code",
   "execution_count": 78,
   "id": "5d841344",
   "metadata": {},
   "outputs": [
    {
     "name": "stdout",
     "output_type": "stream",
     "text": [
      "https://earthengine.googleapis.com/v1alpha/projects/earthengine-legacy/thumbnails/39f29cf8598052eef37c300f165c7730-9f8e14974959ccef4ee51eb9a622b2e6:getPixels\n"
     ]
    },
    {
     "ename": "EEException",
     "evalue": "Total request size (107143200 bytes) must be less than or equal to 50331648 bytes.",
     "output_type": "error",
     "traceback": [
      "\u001b[1;31m---------------------------------------------------------------------------\u001b[0m",
      "\u001b[1;31mHttpError\u001b[0m                                 Traceback (most recent call last)",
      "File \u001b[1;32mc:\\bin\\dev\\remote-sensing-deepforest\\env\\Lib\\site-packages\\ee\\data.py:337\u001b[0m, in \u001b[0;36m_execute_cloud_call\u001b[1;34m(call, num_retries)\u001b[0m\n\u001b[0;32m    336\u001b[0m \u001b[39mtry\u001b[39;00m:\n\u001b[1;32m--> 337\u001b[0m   \u001b[39mreturn\u001b[39;00m call\u001b[39m.\u001b[39;49mexecute(num_retries\u001b[39m=\u001b[39;49mnum_retries)\n\u001b[0;32m    338\u001b[0m \u001b[39mexcept\u001b[39;00m googleapiclient\u001b[39m.\u001b[39merrors\u001b[39m.\u001b[39mHttpError \u001b[39mas\u001b[39;00m e:\n",
      "File \u001b[1;32mc:\\bin\\dev\\remote-sensing-deepforest\\env\\Lib\\site-packages\\googleapiclient\\_helpers.py:130\u001b[0m, in \u001b[0;36mpositional.<locals>.positional_decorator.<locals>.positional_wrapper\u001b[1;34m(*args, **kwargs)\u001b[0m\n\u001b[0;32m    129\u001b[0m         logger\u001b[39m.\u001b[39mwarning(message)\n\u001b[1;32m--> 130\u001b[0m \u001b[39mreturn\u001b[39;00m wrapped(\u001b[39m*\u001b[39;49margs, \u001b[39m*\u001b[39;49m\u001b[39m*\u001b[39;49mkwargs)\n",
      "File \u001b[1;32mc:\\bin\\dev\\remote-sensing-deepforest\\env\\Lib\\site-packages\\googleapiclient\\http.py:938\u001b[0m, in \u001b[0;36mHttpRequest.execute\u001b[1;34m(self, http, num_retries)\u001b[0m\n\u001b[0;32m    937\u001b[0m \u001b[39mif\u001b[39;00m resp\u001b[39m.\u001b[39mstatus \u001b[39m>\u001b[39m\u001b[39m=\u001b[39m \u001b[39m300\u001b[39m:\n\u001b[1;32m--> 938\u001b[0m     \u001b[39mraise\u001b[39;00m HttpError(resp, content, uri\u001b[39m=\u001b[39m\u001b[39mself\u001b[39m\u001b[39m.\u001b[39muri)\n\u001b[0;32m    939\u001b[0m \u001b[39mreturn\u001b[39;00m \u001b[39mself\u001b[39m\u001b[39m.\u001b[39mpostproc(resp, content)\n",
      "\u001b[1;31mHttpError\u001b[0m: <HttpError 400 when requesting https://earthengine.googleapis.com/v1alpha/projects/earthengine-legacy/thumbnails?fields=name&alt=json returned \"Total request size (107143200 bytes) must be less than or equal to 50331648 bytes.\". Details: \"Total request size (107143200 bytes) must be less than or equal to 50331648 bytes.\">",
      "\nDuring handling of the above exception, another exception occurred:\n",
      "\u001b[1;31mEEException\u001b[0m                               Traceback (most recent call last)",
      "Cell \u001b[1;32mIn[78], line 45\u001b[0m\n\u001b[0;32m     15\u001b[0m parameters \u001b[39m=\u001b[39m  {\n\u001b[0;32m     16\u001b[0m   \u001b[39m# 'crs': 'EPSG:4326',\u001b[39;00m\n\u001b[0;32m     17\u001b[0m   \u001b[39m'\u001b[39m\u001b[39mbands\u001b[39m\u001b[39m'\u001b[39m: [\u001b[39m'\u001b[39m\u001b[39mB4\u001b[39m\u001b[39m'\u001b[39m, \u001b[39m'\u001b[39m\u001b[39mB3\u001b[39m\u001b[39m'\u001b[39m, \u001b[39m'\u001b[39m\u001b[39mB2\u001b[39m\u001b[39m'\u001b[39m], \n\u001b[1;32m   (...)\u001b[0m\n\u001b[0;32m     27\u001b[0m   \u001b[39m# 'maxPixels': 1e130,\u001b[39;00m\n\u001b[0;32m     28\u001b[0m }\n\u001b[0;32m     30\u001b[0m \u001b[39mprint\u001b[39m(ee\u001b[39m.\u001b[39mImage(image)\u001b[39m.\u001b[39mgetThumbUrl({\n\u001b[0;32m     31\u001b[0m   \u001b[39m# 'crs': 'EPSG:4326',\u001b[39;00m\n\u001b[0;32m     32\u001b[0m   \u001b[39m'\u001b[39m\u001b[39mbands\u001b[39m\u001b[39m'\u001b[39m: [\u001b[39m'\u001b[39m\u001b[39mB4\u001b[39m\u001b[39m'\u001b[39m, \u001b[39m'\u001b[39m\u001b[39mB3\u001b[39m\u001b[39m'\u001b[39m, \u001b[39m'\u001b[39m\u001b[39mB2\u001b[39m\u001b[39m'\u001b[39m], \n\u001b[1;32m   (...)\u001b[0m\n\u001b[0;32m     42\u001b[0m   \u001b[39m# 'maxPixels': 1e130,\u001b[39;00m\n\u001b[0;32m     43\u001b[0m }))\n\u001b[1;32m---> 45\u001b[0m url \u001b[39m=\u001b[39m ee\u001b[39m.\u001b[39;49mImage(image)\u001b[39m.\u001b[39;49mgetDownloadURL({\n\u001b[0;32m     46\u001b[0m   \u001b[39m'\u001b[39;49m\u001b[39mcrs\u001b[39;49m\u001b[39m'\u001b[39;49m: \u001b[39m'\u001b[39;49m\u001b[39mEPSG:4326\u001b[39;49m\u001b[39m'\u001b[39;49m,\n\u001b[0;32m     47\u001b[0m   \u001b[39m# 'bands': ['B4', 'B3', 'B2'], \u001b[39;49;00m\n\u001b[0;32m     48\u001b[0m   \u001b[39m'\u001b[39;49m\u001b[39mmin\u001b[39;49m\u001b[39m'\u001b[39;49m: \u001b[39m5000\u001b[39;49m,\n\u001b[0;32m     49\u001b[0m   \u001b[39m'\u001b[39;49m\u001b[39mmax\u001b[39;49m\u001b[39m'\u001b[39;49m: \u001b[39m11000\u001b[39;49m,\n\u001b[0;32m     50\u001b[0m   \u001b[39m'\u001b[39;49m\u001b[39mdimensions\u001b[39;49m\u001b[39m'\u001b[39;49m: \u001b[39m800\u001b[39;49m, \u001b[39m# square size in pixels\u001b[39;49;00m\n\u001b[0;32m     51\u001b[0m   \u001b[39m'\u001b[39;49m\u001b[39mgamma\u001b[39;49m\u001b[39m'\u001b[39;49m: \u001b[39m1.1\u001b[39;49m,\n\u001b[0;32m     52\u001b[0m   \u001b[39m'\u001b[39;49m\u001b[39mimage\u001b[39;49m\u001b[39m'\u001b[39;49m: image\u001b[39m.\u001b[39;49mint16(),\n\u001b[0;32m     53\u001b[0m   \u001b[39m'\u001b[39;49m\u001b[39msingle_image\u001b[39;49m\u001b[39m'\u001b[39;49m: \u001b[39mTrue\u001b[39;49;00m,\n\u001b[0;32m     54\u001b[0m   \u001b[39m# 'description': 'Sentinel2AChennai',\u001b[39;49;00m\n\u001b[0;32m     55\u001b[0m   \u001b[39m# 'scale': 10,\u001b[39;49;00m\n\u001b[0;32m     56\u001b[0m   \u001b[39m# 'fileFormat': 'GeoTIFF',\u001b[39;49;00m\n\u001b[0;32m     57\u001b[0m   \u001b[39m'\u001b[39;49m\u001b[39mregion\u001b[39;49m\u001b[39m'\u001b[39;49m: roi,\n\u001b[0;32m     58\u001b[0m   \u001b[39m# 'maxPixels': 1e13,\u001b[39;49;00m\n\u001b[0;32m     59\u001b[0m })\n\u001b[0;32m     60\u001b[0m \u001b[39mprint\u001b[39m(url)\n\u001b[0;32m     61\u001b[0m display(Image(url \u001b[39m=\u001b[39m url))\n",
      "File \u001b[1;32mc:\\bin\\dev\\remote-sensing-deepforest\\env\\Lib\\site-packages\\ee\\image.py:469\u001b[0m, in \u001b[0;36mImage.getDownloadURL\u001b[1;34m(self, params)\u001b[0m\n\u001b[0;32m    467\u001b[0m request \u001b[39m=\u001b[39m params \u001b[39mor\u001b[39;00m {}\n\u001b[0;32m    468\u001b[0m request[\u001b[39m'\u001b[39m\u001b[39mimage\u001b[39m\u001b[39m'\u001b[39m] \u001b[39m=\u001b[39m \u001b[39mself\u001b[39m\n\u001b[1;32m--> 469\u001b[0m \u001b[39mreturn\u001b[39;00m data\u001b[39m.\u001b[39mmakeDownloadUrl(data\u001b[39m.\u001b[39;49mgetDownloadId(request))\n",
      "File \u001b[1;32mc:\\bin\\dev\\remote-sensing-deepforest\\env\\Lib\\site-packages\\ee\\data.py:1159\u001b[0m, in \u001b[0;36mgetDownloadId\u001b[1;34m(params)\u001b[0m\n\u001b[0;32m   1154\u001b[0m queryParams \u001b[39m=\u001b[39m {\n\u001b[0;32m   1155\u001b[0m     \u001b[39m'\u001b[39m\u001b[39mfields\u001b[39m\u001b[39m'\u001b[39m: \u001b[39m'\u001b[39m\u001b[39mname\u001b[39m\u001b[39m'\u001b[39m,\n\u001b[0;32m   1156\u001b[0m     \u001b[39m'\u001b[39m\u001b[39mbody\u001b[39m\u001b[39m'\u001b[39m: request,\n\u001b[0;32m   1157\u001b[0m }\n\u001b[0;32m   1158\u001b[0m _maybe_populate_workload_tag(queryParams)\n\u001b[1;32m-> 1159\u001b[0m result \u001b[39m=\u001b[39m _execute_cloud_call(\n\u001b[0;32m   1160\u001b[0m     _get_cloud_api_resource()\u001b[39m.\u001b[39;49mprojects()\u001b[39m.\u001b[39;49mthumbnails()\u001b[39m.\u001b[39;49mcreate(\n\u001b[0;32m   1161\u001b[0m         parent\u001b[39m=\u001b[39;49m_get_projects_path(), \u001b[39m*\u001b[39;49m\u001b[39m*\u001b[39;49mqueryParams))\n\u001b[0;32m   1162\u001b[0m \u001b[39mreturn\u001b[39;00m {\u001b[39m'\u001b[39m\u001b[39mdocid\u001b[39m\u001b[39m'\u001b[39m: result[\u001b[39m'\u001b[39m\u001b[39mname\u001b[39m\u001b[39m'\u001b[39m], \u001b[39m'\u001b[39m\u001b[39mtoken\u001b[39m\u001b[39m'\u001b[39m: \u001b[39m'\u001b[39m\u001b[39m'\u001b[39m}\n",
      "File \u001b[1;32mc:\\bin\\dev\\remote-sensing-deepforest\\env\\Lib\\site-packages\\ee\\data.py:339\u001b[0m, in \u001b[0;36m_execute_cloud_call\u001b[1;34m(call, num_retries)\u001b[0m\n\u001b[0;32m    337\u001b[0m   \u001b[39mreturn\u001b[39;00m call\u001b[39m.\u001b[39mexecute(num_retries\u001b[39m=\u001b[39mnum_retries)\n\u001b[0;32m    338\u001b[0m \u001b[39mexcept\u001b[39;00m googleapiclient\u001b[39m.\u001b[39merrors\u001b[39m.\u001b[39mHttpError \u001b[39mas\u001b[39;00m e:\n\u001b[1;32m--> 339\u001b[0m   \u001b[39mraise\u001b[39;00m _translate_cloud_exception(e)\n",
      "\u001b[1;31mEEException\u001b[0m: Total request size (107143200 bytes) must be less than or equal to 50331648 bytes."
     ]
    }
   ],
   "source": [
    "\n",
    "\n",
    "roi = ee.Geometry.Polygon(\n",
    "        [[[33.438911421328484, -14.242571177249024],\n",
    "          [33.438911421328484, -14.24864414767038],\n",
    "          [33.44642160657018, -14.24864414767038],\n",
    "          [33.44642160657018, -14.242571177249024]]], None, False)\n",
    "\n",
    "image = ee.ImageCollection('COPERNICUS/S2_SR')\\\n",
    ".filterDate('2020-01-01', '2020-12-30')\\\n",
    ".filter(ee.Filter.lt('CLOUDY_PIXEL_PERCENTAGE', 10))\\\n",
    ".filterBounds(roi)\\\n",
    ".median()\n",
    "\n",
    "\n",
    "# set some parameters for the images\n",
    "parameters =  {\n",
    "  # 'crs': 'EPSG:4326',\n",
    "  'bands': ['B4', 'B3', 'B2'], \n",
    "  'min': 0,\n",
    "  'max': 2500,\n",
    "  # 'dimensions': 800, # square size in pixels\n",
    "  # 'gamma': 1.0,\n",
    "  # 'image': image.int16(),\n",
    "  # 'description': 'Sentinel2AChennai',\n",
    "  'scale': 10,\n",
    "  # 'fileFormat': 'GeoTIFF',\n",
    "  'region': roi,\n",
    "  # 'maxPixels': 1e130,\n",
    "}\n",
    "\n",
    "print(ee.Image(image).getThumbUrl({\n",
    "  # 'crs': 'EPSG:4326',\n",
    "  'bands': ['B4', 'B3', 'B2'], \n",
    "  'min': 0,\n",
    "  'max': 2500,\n",
    "  # 'dimensions': 800, # square size in pixels\n",
    "  # 'gamma': 1.0,\n",
    "  # 'image': image.int16(),\n",
    "  # 'description': 'Sentinel2AChennai',\n",
    "  'scale': 10,\n",
    "  # 'fileFormat': 'GeoTIFF',\n",
    "  'region': roi,\n",
    "  # 'maxPixels': 1e130,\n",
    "}))\n",
    "\n",
    "url = ee.Image(image).getDownloadURL({\n",
    "  'crs': 'EPSG:4326',\n",
    "  'bands': ['B4', 'B3', 'B2'], \n",
    "  'min': 7000,\n",
    "  'max': 16000,\n",
    "  'dimensions': 800, # square size in pixels\n",
    "  'gamma': 1.1,\n",
    "  'image': image.int16(),\n",
    "  'single_image': True,\n",
    "  # 'description': 'Sentinel2AChennai',\n",
    "  # 'scale': 10,\n",
    "  # 'fileFormat': 'GeoTIFF',\n",
    "  'region': roi,\n",
    "  # 'maxPixels': 1e13,\n",
    "})\n",
    "print(url)\n",
    "display(Image(url = url))\n",
    "\n",
    "# url = image.getDownloadURL({\n",
    "#   'name': 'sentinel2_image',\n",
    "#   'scale': 10,\n",
    "#   'crs': 'EPSG:4326'\n",
    "# })\n",
    "\n",
    "# print('Download URL:', url)"
   ]
  },
  {
   "cell_type": "code",
   "execution_count": 14,
   "id": "8acb0b6f",
   "metadata": {
    "slideshow": {
     "slide_type": "slide"
    }
   },
   "outputs": [
    {
     "data": {
      "text/html": [
       "<div>\n",
       "<style scoped>\n",
       "    .dataframe tbody tr th:only-of-type {\n",
       "        vertical-align: middle;\n",
       "    }\n",
       "\n",
       "    .dataframe tbody tr th {\n",
       "        vertical-align: top;\n",
       "    }\n",
       "\n",
       "    .dataframe thead th {\n",
       "        text-align: right;\n",
       "    }\n",
       "</style>\n",
       "<table border=\"1\" class=\"dataframe\">\n",
       "  <thead>\n",
       "    <tr style=\"text-align: right;\">\n",
       "      <th></th>\n",
       "      <th>Image #</th>\n",
       "      <th>Date</th>\n",
       "      <th>Cloud Cover</th>\n",
       "    </tr>\n",
       "  </thead>\n",
       "  <tbody>\n",
       "    <tr>\n",
       "      <th>0</th>\n",
       "      <td>0</td>\n",
       "      <td>2018-10-07</td>\n",
       "      <td>0.05</td>\n",
       "    </tr>\n",
       "    <tr>\n",
       "      <th>1</th>\n",
       "      <td>1</td>\n",
       "      <td>2018-10-23</td>\n",
       "      <td>73.04</td>\n",
       "    </tr>\n",
       "    <tr>\n",
       "      <th>2</th>\n",
       "      <td>2</td>\n",
       "      <td>2018-11-08</td>\n",
       "      <td>11.83</td>\n",
       "    </tr>\n",
       "    <tr>\n",
       "      <th>3</th>\n",
       "      <td>3</td>\n",
       "      <td>2018-11-24</td>\n",
       "      <td>67.16</td>\n",
       "    </tr>\n",
       "    <tr>\n",
       "      <th>4</th>\n",
       "      <td>4</td>\n",
       "      <td>2018-12-10</td>\n",
       "      <td>56.09</td>\n",
       "    </tr>\n",
       "    <tr>\n",
       "      <th>5</th>\n",
       "      <td>5</td>\n",
       "      <td>2018-12-26</td>\n",
       "      <td>5.99</td>\n",
       "    </tr>\n",
       "    <tr>\n",
       "      <th>6</th>\n",
       "      <td>6</td>\n",
       "      <td>2019-01-11</td>\n",
       "      <td>80.06</td>\n",
       "    </tr>\n",
       "    <tr>\n",
       "      <th>7</th>\n",
       "      <td>7</td>\n",
       "      <td>2019-01-27</td>\n",
       "      <td>5.21</td>\n",
       "    </tr>\n",
       "  </tbody>\n",
       "</table>\n",
       "</div>"
      ],
      "text/plain": [
       "   Image #        Date  Cloud Cover\n",
       "0        0  2018-10-07         0.05\n",
       "1        1  2018-10-23        73.04\n",
       "2        2  2018-11-08        11.83\n",
       "3        3  2018-11-24        67.16\n",
       "4        4  2018-12-10        56.09\n",
       "5        5  2018-12-26         5.99\n",
       "6        6  2019-01-11        80.06\n",
       "7        7  2019-01-27         5.21"
      ]
     },
     "execution_count": 14,
     "metadata": {},
     "output_type": "execute_result"
    }
   ],
   "source": [
    "# our data in a dataframe\n",
    "df"
   ]
  },
  {
   "cell_type": "markdown",
   "id": "parliamentary-correspondence",
   "metadata": {
    "slideshow": {
     "slide_type": "slide"
    }
   },
   "source": [
    "## Selecting images, zooming in\n",
    "Now that we have inspected our collection of images, we can pick and choose which ones are relevant for our study. Ideally, we want to have images for before and after the fire to be able to assess the level of damage.\n",
    "\n",
    "We also want to create an ROI (region of interest) and zoom in to the area of interest. We do so by appying a 20km buffer around our POI."
   ]
  },
  {
   "cell_type": "code",
   "execution_count": 15,
   "id": "blank-professional",
   "metadata": {
    "slideshow": {
     "slide_type": "slide"
    }
   },
   "outputs": [],
   "source": [
    "# create a list of images we want (before, during, after)\n",
    "landsat_sequence = [0,2,5]"
   ]
  },
  {
   "cell_type": "code",
   "execution_count": 19,
   "id": "acceptable-tribe",
   "metadata": {
    "slideshow": {
     "slide_type": "fragment"
    }
   },
   "outputs": [],
   "source": [
    "# Define a region of interest with a buffer zone of 20 km\n",
    "roi = poi.buffer(2000) # meters"
   ]
  },
  {
   "cell_type": "code",
   "execution_count": 20,
   "id": "played-definition",
   "metadata": {
    "slideshow": {
     "slide_type": "fragment"
    }
   },
   "outputs": [],
   "source": [
    "parameters = {\n",
    "                'min': 6000,\n",
    "                'max': 16000,\n",
    "                'dimensions': 800,\n",
    "                'bands': ['SR_B4', 'SR_B3', 'SR_B2'],\n",
    "                'region':roi\n",
    "             }"
   ]
  },
  {
   "cell_type": "code",
   "execution_count": 21,
   "id": "graduate-consent",
   "metadata": {
    "scrolled": true,
    "slideshow": {
     "slide_type": "slide"
    },
    "tags": []
   },
   "outputs": [
    {
     "name": "stdout",
     "output_type": "stream",
     "text": [
      "Image # 0 2018-10-07 Cloud cover: 0.05\n"
     ]
    },
    {
     "data": {
      "text/html": [
       "<img src=\"https://earthengine.googleapis.com/v1alpha/projects/earthengine-legacy/thumbnails/2209937a65425bd65ef4099ee4710222-35e860e07e6e57f2cf01eaa88658fd7f:getPixels\"/>"
      ],
      "text/plain": [
       "<IPython.core.display.Image object>"
      ]
     },
     "metadata": {},
     "output_type": "display_data"
    },
    {
     "name": "stdout",
     "output_type": "stream",
     "text": [
      "Image # 2 2018-11-08 Cloud cover: 11.83\n"
     ]
    },
    {
     "data": {
      "text/html": [
       "<img src=\"https://earthengine.googleapis.com/v1alpha/projects/earthengine-legacy/thumbnails/8e39b6ebf54b19087c25133bdde62b90-26e3e753b9458408b89696c3961978ad:getPixels\"/>"
      ],
      "text/plain": [
       "<IPython.core.display.Image object>"
      ]
     },
     "metadata": {},
     "output_type": "display_data"
    },
    {
     "name": "stdout",
     "output_type": "stream",
     "text": [
      "Image # 5 2018-12-26 Cloud cover: 5.99\n"
     ]
    },
    {
     "data": {
      "text/html": [
       "<img src=\"https://earthengine.googleapis.com/v1alpha/projects/earthengine-legacy/thumbnails/84f069a147be1165971d0b6ba46a876d-f1a02e6b6e3f5bc6f6f8fe6b4ff6464d:getPixels\"/>"
      ],
      "text/plain": [
       "<IPython.core.display.Image object>"
      ]
     },
     "metadata": {},
     "output_type": "display_data"
    }
   ],
   "source": [
    "for i in landsat_sequence:\n",
    "    \n",
    "    # when was this image taken?\n",
    "    date = ee.Image(landsat_list.get(i)).get('DATE_ACQUIRED').getInfo()\n",
    "\n",
    "    # cloud cover\n",
    "    cloud = ee.Image(landsat_list.get(i)).get('CLOUD_COVER').getInfo()\n",
    "    \n",
    "    print('Image #',i,date,'Cloud cover:',cloud)\n",
    "    \n",
    "    display(Image(url = ee.Image(landsat_list.get(i)).getThumbUrl(parameters)))"
   ]
  },
  {
   "cell_type": "markdown",
   "id": "abstract-sound",
   "metadata": {
    "slideshow": {
     "slide_type": "slide"
    }
   },
   "source": [
    "<div class=\"alert alert-info\">\n",
    "Take a moment to inspect the three images above. What do they tell you? What do they NOT tell you?\n",
    "</div>"
   ]
  },
  {
   "cell_type": "markdown",
   "id": "increasing-rebel",
   "metadata": {
    "slideshow": {
     "slide_type": "slide"
    }
   },
   "source": [
    "## Normalized Difference Vegetation Index (NDVI)\n",
    "\n",
    "The normalized difference vegetation index (NDVI) is a simple graphical indicator that can be used to analyze remote sensing measurements, often from a space platform, assessing whether or not the target being observed contains live green vegetation.\n",
    "\n",
    "<img src=\"images/ndvi.png\" width=600>\n",
    "\n",
    "- [Source: Agricolus](https://www.agricolus.com/en/vegetation-indices-ndvi-ndmi/)"
   ]
  },
  {
   "cell_type": "markdown",
   "id": "a6272a99",
   "metadata": {
    "slideshow": {
     "slide_type": "slide"
    }
   },
   "source": [
    "### Calculating NDVI in Google Earth Engine\n",
    "\n",
    "- https://developers.google.com/earth-engine/tutorials/tutorial_api_06"
   ]
  },
  {
   "cell_type": "code",
   "execution_count": null,
   "id": "surprised-elder",
   "metadata": {
    "slideshow": {
     "slide_type": "fragment"
    }
   },
   "outputs": [],
   "source": [
    "# ndvi palette: red is low, green is high vegetation\n",
    "palette = ['red', 'yellow', 'green']\n",
    "\n",
    "ndvi_parameters = {'min': 0,\n",
    "                   'max': 0.4,\n",
    "                   'dimensions': 512,\n",
    "                   'palette': palette,\n",
    "                   'region': roi}"
   ]
  },
  {
   "cell_type": "code",
   "execution_count": null,
   "id": "reasonable-stroke",
   "metadata": {
    "scrolled": true,
    "slideshow": {
     "slide_type": "slide"
    },
    "tags": []
   },
   "outputs": [],
   "source": [
    "for i in landsat_sequence:\n",
    "\n",
    "    # when was this image taken?\n",
    "    date = ee.Image(landsat_list.get(i)).get('DATE_ACQUIRED').getInfo()\n",
    "    \n",
    "    # print some information\n",
    "    print('Image #',i,date)\n",
    "    \n",
    "    # display the image\n",
    "    display(Image(url=ee.Image(landsat_list.get(i)).normalizedDifference(['SR_B5', 'SR_B4']).getThumbUrl(ndvi_parameters)))"
   ]
  },
  {
   "cell_type": "markdown",
   "id": "exceptional-elimination",
   "metadata": {
    "slideshow": {
     "slide_type": "slide"
    },
    "tags": []
   },
   "source": [
    "## Folium\n",
    "\n",
    "Of course, we can't end the lab without an interactive map. For this, we can use [folium](https://python-visualization.github.io/folium/quickstart.html), which uses the open-source javascript mapping library [leaflet](https://leafletjs.com/).\n",
    "\n",
    "- https://python-visualization.github.io/folium/quickstart.html"
   ]
  },
  {
   "cell_type": "markdown",
   "id": "b9e946d8",
   "metadata": {},
   "source": [
    "Google earth engine works with folium:\n",
    "- https://developers.google.com/earth-engine/tutorials/community/intro-to-python-api-guiattard?hl=en#interactive_mapping_using_folium"
   ]
  },
  {
   "cell_type": "code",
   "execution_count": null,
   "id": "8782e4cc-0007-4542-92c0-7f33486fab4c",
   "metadata": {
    "slideshow": {
     "slide_type": "slide"
    }
   },
   "outputs": [],
   "source": [
    "# a simple folium map\n",
    "import folium\n",
    "\n",
    "m = folium.Map(location=[lat,lon])\n",
    "m"
   ]
  },
  {
   "cell_type": "code",
   "execution_count": null,
   "id": "hearing-shakespeare",
   "metadata": {
    "slideshow": {
     "slide_type": "slide"
    }
   },
   "outputs": [],
   "source": [
    "# Google function that allows ee layers on folium\n",
    "def add_ee_layer(self, ee_image_object, vis_params, name):\n",
    "    \"\"\"Adds a method for displaying Earth Engine image tiles to folium map.\"\"\"\n",
    "    map_id_dict = ee.Image(ee_image_object).getMapId(vis_params)\n",
    "    folium.raster_layers.TileLayer(\n",
    "        tiles=map_id_dict['tile_fetcher'].url_format,\n",
    "        attr='Map Data &copy; <a href=\"https://earthengine.google.com/\">Google Earth Engine</a>',\n",
    "        name=name,\n",
    "        overlay=True,\n",
    "        control=True\n",
    "    ).add_to(self)\n",
    "\n",
    "# Add Earth Engine drawing method to folium\n",
    "folium.Map.add_ee_layer = add_ee_layer"
   ]
  },
  {
   "cell_type": "code",
   "execution_count": null,
   "id": "breeding-composer",
   "metadata": {
    "slideshow": {
     "slide_type": "slide"
    }
   },
   "outputs": [],
   "source": [
    "# Create a map\n",
    "my_map = folium.Map(location=[lat, lon], zoom_start=10)\n",
    "\n",
    "# Add a layer for each satellite image of interest (before, during and after)\n",
    "for i in landsat_sequence:\n",
    "\n",
    "    # when was this image taken?\n",
    "    date = ee.Image(landsat_list.get(i)).get('DATE_ACQUIRED').getInfo()\n",
    "\n",
    "    my_map.add_ee_layer(ee.Image(landsat_list.get(i)).normalizedDifference(['SR_B5', 'SR_B4']), \n",
    "                        ndvi_parameters, \n",
    "                        name=date)\n",
    "    \n",
    "# Add a layer control panel to the map\n",
    "folium.LayerControl(collapsed = False).add_to(my_map)\n",
    "\n",
    "# Display the map.\n",
    "display(my_map)"
   ]
  },
  {
   "cell_type": "markdown",
   "id": "surgical-schema",
   "metadata": {
    "slideshow": {
     "slide_type": "slide"
    }
   },
   "source": [
    "## Save the folium map as an html file"
   ]
  },
  {
   "cell_type": "code",
   "execution_count": null,
   "id": "similar-effects",
   "metadata": {},
   "outputs": [],
   "source": [
    "my_map.save('camp.html')"
   ]
  },
  {
   "cell_type": "markdown",
   "id": "89ac4f93",
   "metadata": {
    "slideshow": {
     "slide_type": "slide"
    }
   },
   "source": [
    "## Evaluation\n",
    "\n",
    "<img src=\"images/yoh.png\">\n",
    "A big thank you to all of you who have come today. Please take a moment to fill this survey, as we always want to hear from you.\n",
    "\n",
    "https://docs.google.com/forms/d/e/1FAIpQLSdVTXFIt4-8c6NQGJc_qORMKIzEmvmBKWFTgU7Ek6AZEq3Xww/viewform\n"
   ]
  },
  {
   "cell_type": "markdown",
   "id": "specialized-dallas",
   "metadata": {
    "slideshow": {
     "slide_type": "slide"
    }
   },
   "source": [
    "# Resources\n",
    "\n",
    "- [Google's Python Tutorial](https://developers.google.com/earth-engine/tutorials/community/intro-to-python-api-guiattard)\n",
    "- [Earth Lab](https://www.earthdatascience.org/courses/use-data-open-source-python/multispectral-remote-sensing/landsat-in-Python/)\n",
    "    "
   ]
  }
 ],
 "metadata": {
  "celltoolbar": "Slideshow",
  "kernelspec": {
   "display_name": "Python 3 (ipykernel)",
   "language": "python",
   "name": "python3"
  },
  "language_info": {
   "codemirror_mode": {
    "name": "ipython",
    "version": 3
   },
   "file_extension": ".py",
   "mimetype": "text/x-python",
   "name": "python",
   "nbconvert_exporter": "python",
   "pygments_lexer": "ipython3",
   "version": "3.11.2"
  },
  "toc": {
   "base_numbering": 1,
   "nav_menu": {},
   "number_sections": true,
   "sideBar": true,
   "skip_h1_title": false,
   "title_cell": "Table of Contents",
   "title_sidebar": "Contents",
   "toc_cell": false,
   "toc_position": {
    "height": "calc(100% - 180px)",
    "left": "10px",
    "top": "150px",
    "width": "271.188px"
   },
   "toc_section_display": true,
   "toc_window_display": false
  }
 },
 "nbformat": 4,
 "nbformat_minor": 5
}

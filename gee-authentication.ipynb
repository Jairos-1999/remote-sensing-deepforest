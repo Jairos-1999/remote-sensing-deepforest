{
 "cells": [
  {
   "cell_type": "code",
   "execution_count": 15,
   "metadata": {},
   "outputs": [
    {
     "data": {
      "text/plain": [
       "True"
      ]
     },
     "execution_count": 15,
     "metadata": {},
     "output_type": "execute_result"
    }
   ],
   "source": [
    "import os\n",
    "import ee\n",
    "import json\n",
    "from ee.ee_exception import EEException\n",
    "from dotenv import load_dotenv\n",
    "# Load the configuration variables from the .env file\n",
    "load_dotenv()"
   ]
  },
  {
   "cell_type": "code",
   "execution_count": 16,
   "metadata": {},
   "outputs": [],
   "source": [
    "private_key_file_path = os.getenv('GEE_SERVICE_ACCOUNT_PATH')\n",
    "\n",
    "def geeAuthCredentials():\n",
    "    #// todo - setup env for gee auth path to json service account file\n",
    "    with open(private_key_file_path,  'r') as file:\n",
    "        data = json.load(file)\n",
    "    return data"
   ]
  },
  {
   "cell_type": "code",
   "execution_count": 19,
   "metadata": {},
   "outputs": [],
   "source": [
    "private_key_json = geeAuthCredentials()\n",
    "service_account = private_key_json['client_email']\n",
    "\n",
    "try:\n",
    "    credentials = ee.ServiceAccountCredentials(service_account, private_key_file_path)\n",
    "    ee.Initialize(credentials)\n",
    "except EEException as e:\n",
    "    print(str(e))"
   ]
  },
  {
   "cell_type": "code",
   "execution_count": 23,
   "metadata": {},
   "outputs": [
    {
     "ename": "EEException",
     "evalue": "GeometryConstructors.Rectangle: Geometry.Rectangle requires two corner points.",
     "output_type": "error",
     "traceback": [
      "\u001b[1;31m---------------------------------------------------------------------------\u001b[0m",
      "\u001b[1;31mHttpError\u001b[0m                                 Traceback (most recent call last)",
      "File \u001b[1;32mc:\\bin\\dev\\remote-sensing-deepforest\\env\\Lib\\site-packages\\ee\\data.py:337\u001b[0m, in \u001b[0;36m_execute_cloud_call\u001b[1;34m(call, num_retries)\u001b[0m\n\u001b[0;32m    336\u001b[0m \u001b[39mtry\u001b[39;00m:\n\u001b[1;32m--> 337\u001b[0m   \u001b[39mreturn\u001b[39;00m call\u001b[39m.\u001b[39;49mexecute(num_retries\u001b[39m=\u001b[39;49mnum_retries)\n\u001b[0;32m    338\u001b[0m \u001b[39mexcept\u001b[39;00m googleapiclient\u001b[39m.\u001b[39merrors\u001b[39m.\u001b[39mHttpError \u001b[39mas\u001b[39;00m e:\n",
      "File \u001b[1;32mc:\\bin\\dev\\remote-sensing-deepforest\\env\\Lib\\site-packages\\googleapiclient\\_helpers.py:130\u001b[0m, in \u001b[0;36mpositional.<locals>.positional_decorator.<locals>.positional_wrapper\u001b[1;34m(*args, **kwargs)\u001b[0m\n\u001b[0;32m    129\u001b[0m         logger\u001b[39m.\u001b[39mwarning(message)\n\u001b[1;32m--> 130\u001b[0m \u001b[39mreturn\u001b[39;00m wrapped(\u001b[39m*\u001b[39;49margs, \u001b[39m*\u001b[39;49m\u001b[39m*\u001b[39;49mkwargs)\n",
      "File \u001b[1;32mc:\\bin\\dev\\remote-sensing-deepforest\\env\\Lib\\site-packages\\googleapiclient\\http.py:938\u001b[0m, in \u001b[0;36mHttpRequest.execute\u001b[1;34m(self, http, num_retries)\u001b[0m\n\u001b[0;32m    937\u001b[0m \u001b[39mif\u001b[39;00m resp\u001b[39m.\u001b[39mstatus \u001b[39m>\u001b[39m\u001b[39m=\u001b[39m \u001b[39m300\u001b[39m:\n\u001b[1;32m--> 938\u001b[0m     \u001b[39mraise\u001b[39;00m HttpError(resp, content, uri\u001b[39m=\u001b[39m\u001b[39mself\u001b[39m\u001b[39m.\u001b[39muri)\n\u001b[0;32m    939\u001b[0m \u001b[39mreturn\u001b[39;00m \u001b[39mself\u001b[39m\u001b[39m.\u001b[39mpostproc(resp, content)\n",
      "\u001b[1;31mHttpError\u001b[0m: <HttpError 400 when requesting https://earthengine.googleapis.com/v1alpha/projects/earthengine-legacy/thumbnails?fields=name&alt=json returned \"GeometryConstructors.Rectangle: Geometry.Rectangle requires two corner points.\". Details: \"GeometryConstructors.Rectangle: Geometry.Rectangle requires two corner points.\">",
      "\nDuring handling of the above exception, another exception occurred:\n",
      "\u001b[1;31mEEException\u001b[0m                               Traceback (most recent call last)",
      "Cell \u001b[1;32mIn[23], line 11\u001b[0m\n\u001b[0;32m      8\u001b[0m image \u001b[39m=\u001b[39m landsat\u001b[39m.\u001b[39mfilterDate(\u001b[39m'\u001b[39m\u001b[39m2019-01-01\u001b[39m\u001b[39m'\u001b[39m, \u001b[39m'\u001b[39m\u001b[39m2019-12-31\u001b[39m\u001b[39m'\u001b[39m)\u001b[39m.\u001b[39mfilterBounds(roi)\u001b[39m.\u001b[39mfirst()\n\u001b[0;32m     10\u001b[0m \u001b[39m# Get the image URL\u001b[39;00m\n\u001b[1;32m---> 11\u001b[0m url \u001b[39m=\u001b[39m image\u001b[39m.\u001b[39;49mgetDownloadURL({\n\u001b[0;32m     12\u001b[0m     \u001b[39m'\u001b[39;49m\u001b[39mscale\u001b[39;49m\u001b[39m'\u001b[39;49m: \u001b[39m30\u001b[39;49m,\n\u001b[0;32m     13\u001b[0m     \u001b[39m'\u001b[39;49m\u001b[39mcrs\u001b[39;49m\u001b[39m'\u001b[39;49m: \u001b[39m'\u001b[39;49m\u001b[39mEPSG:4326\u001b[39;49m\u001b[39m'\u001b[39;49m,\n\u001b[0;32m     14\u001b[0m     \u001b[39m'\u001b[39;49m\u001b[39mregion\u001b[39;49m\u001b[39m'\u001b[39;49m: roi\u001b[39m.\u001b[39;49mgetInfo()[\u001b[39m'\u001b[39;49m\u001b[39mcoordinates\u001b[39;49m\u001b[39m'\u001b[39;49m]\n\u001b[0;32m     15\u001b[0m })\n\u001b[0;32m     17\u001b[0m \u001b[39mprint\u001b[39m(url)\n\u001b[0;32m     18\u001b[0m \u001b[39m# Print the URL\u001b[39;00m\n",
      "File \u001b[1;32mc:\\bin\\dev\\remote-sensing-deepforest\\env\\Lib\\site-packages\\ee\\image.py:469\u001b[0m, in \u001b[0;36mImage.getDownloadURL\u001b[1;34m(self, params)\u001b[0m\n\u001b[0;32m    467\u001b[0m request \u001b[39m=\u001b[39m params \u001b[39mor\u001b[39;00m {}\n\u001b[0;32m    468\u001b[0m request[\u001b[39m'\u001b[39m\u001b[39mimage\u001b[39m\u001b[39m'\u001b[39m] \u001b[39m=\u001b[39m \u001b[39mself\u001b[39m\n\u001b[1;32m--> 469\u001b[0m \u001b[39mreturn\u001b[39;00m data\u001b[39m.\u001b[39mmakeDownloadUrl(data\u001b[39m.\u001b[39;49mgetDownloadId(request))\n",
      "File \u001b[1;32mc:\\bin\\dev\\remote-sensing-deepforest\\env\\Lib\\site-packages\\ee\\data.py:1159\u001b[0m, in \u001b[0;36mgetDownloadId\u001b[1;34m(params)\u001b[0m\n\u001b[0;32m   1154\u001b[0m queryParams \u001b[39m=\u001b[39m {\n\u001b[0;32m   1155\u001b[0m     \u001b[39m'\u001b[39m\u001b[39mfields\u001b[39m\u001b[39m'\u001b[39m: \u001b[39m'\u001b[39m\u001b[39mname\u001b[39m\u001b[39m'\u001b[39m,\n\u001b[0;32m   1156\u001b[0m     \u001b[39m'\u001b[39m\u001b[39mbody\u001b[39m\u001b[39m'\u001b[39m: request,\n\u001b[0;32m   1157\u001b[0m }\n\u001b[0;32m   1158\u001b[0m _maybe_populate_workload_tag(queryParams)\n\u001b[1;32m-> 1159\u001b[0m result \u001b[39m=\u001b[39m _execute_cloud_call(\n\u001b[0;32m   1160\u001b[0m     _get_cloud_api_resource()\u001b[39m.\u001b[39;49mprojects()\u001b[39m.\u001b[39;49mthumbnails()\u001b[39m.\u001b[39;49mcreate(\n\u001b[0;32m   1161\u001b[0m         parent\u001b[39m=\u001b[39;49m_get_projects_path(), \u001b[39m*\u001b[39;49m\u001b[39m*\u001b[39;49mqueryParams))\n\u001b[0;32m   1162\u001b[0m \u001b[39mreturn\u001b[39;00m {\u001b[39m'\u001b[39m\u001b[39mdocid\u001b[39m\u001b[39m'\u001b[39m: result[\u001b[39m'\u001b[39m\u001b[39mname\u001b[39m\u001b[39m'\u001b[39m], \u001b[39m'\u001b[39m\u001b[39mtoken\u001b[39m\u001b[39m'\u001b[39m: \u001b[39m'\u001b[39m\u001b[39m'\u001b[39m}\n",
      "File \u001b[1;32mc:\\bin\\dev\\remote-sensing-deepforest\\env\\Lib\\site-packages\\ee\\data.py:339\u001b[0m, in \u001b[0;36m_execute_cloud_call\u001b[1;34m(call, num_retries)\u001b[0m\n\u001b[0;32m    337\u001b[0m   \u001b[39mreturn\u001b[39;00m call\u001b[39m.\u001b[39mexecute(num_retries\u001b[39m=\u001b[39mnum_retries)\n\u001b[0;32m    338\u001b[0m \u001b[39mexcept\u001b[39;00m googleapiclient\u001b[39m.\u001b[39merrors\u001b[39m.\u001b[39mHttpError \u001b[39mas\u001b[39;00m e:\n\u001b[1;32m--> 339\u001b[0m   \u001b[39mraise\u001b[39;00m _translate_cloud_exception(e)\n",
      "\u001b[1;31mEEException\u001b[0m: GeometryConstructors.Rectangle: Geometry.Rectangle requires two corner points."
     ]
    }
   ],
   "source": [
    "# Define a region of interest\n",
    "roi = ee.Geometry.Point([-122.262, 37.8719])\n",
    "\n",
    "# Define the Landsat 8 collection\n",
    "landsat = ee.ImageCollection('LANDSAT/LC08/C01/T1_TOA')\n",
    "\n",
    "# Filter the collection by date and region\n",
    "image = landsat.filterDate('2019-01-01', '2019-12-31').filterBounds(roi).first()\n",
    "\n",
    "# Get the image URL\n",
    "url = image.getDownloadURL({\n",
    "    'scale': 30,\n",
    "    'crs': 'EPSG:4326',\n",
    "    'region': roi.getInfo()['coordinates']\n",
    "})\n",
    "\n",
    "print(url)\n",
    "# Print the URL\n"
   ]
  }
 ],
 "metadata": {
  "kernelspec": {
   "display_name": "env",
   "language": "python",
   "name": "python3"
  },
  "language_info": {
   "codemirror_mode": {
    "name": "ipython",
    "version": 3
   },
   "file_extension": ".py",
   "mimetype": "text/x-python",
   "name": "python",
   "nbconvert_exporter": "python",
   "pygments_lexer": "ipython3",
   "version": "3.11.2"
  },
  "orig_nbformat": 4
 },
 "nbformat": 4,
 "nbformat_minor": 2
}

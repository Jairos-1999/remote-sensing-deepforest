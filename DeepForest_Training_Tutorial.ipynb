{
  "nbformat": 4,
  "nbformat_minor": 0,
  "metadata": {
    "accelerator": "GPU",
    "colab": {
      "name": "DeepForest Training Tutorial.ipynb",
      "provenance": [],
      "collapsed_sections": [
        "n1e9vwIz1KIv"
      ],
      "include_colab_link": true
    },
    "kernelspec": {
      "display_name": "Python 3",
      "name": "python3"
    }
  },
  "cells": [
    {
      "cell_type": "markdown",
      "metadata": {
        "id": "view-in-github",
        "colab_type": "text"
      },
      "source": [
        "<a href=\"https://colab.research.google.com/github/Jairos-1999/remote-sensing-deepforest/blob/training/DeepForest_Training_Tutorial.ipynb\" target=\"_parent\"><img src=\"https://colab.research.google.com/assets/colab-badge.svg\" alt=\"Open In Colab\"/></a>"
      ]
    },
    {
      "cell_type": "markdown",
      "metadata": {
        "id": "7yMfXl0VYUdh"
      },
      "source": [
        "#DeepForest Training Walkthrough(CPU/GPU)\n",
        "  - For GPU implementation.\n",
        "      1. Select **Runtime** > Change **runtime type** and Select GPU as Hardware accelerator."
      ]
    },
    {
      "cell_type": "code",
      "metadata": {
        "colab": {
          "base_uri": "https://localhost:8080/"
        },
        "id": "PLoNIabP8yuV",
        "outputId": "55d7f832-0e13-4f72-c22e-e32f147cabae"
      },
      "source": [
        "#install the package, on colab make sure to upgrade existing packages. This is not needed in a clean env.\n",
        "! pip install deepforest"
      ],
      "execution_count": 4,
      "outputs": [
        {
          "output_type": "stream",
          "name": "stdout",
          "text": [
            "Looking in indexes: https://pypi.org/simple, https://us-python.pkg.dev/colab-wheels/public/simple/\n",
            "Requirement already satisfied: deepforest in /usr/local/lib/python3.7/dist-packages (1.2.1)\n",
            "Requirement already satisfied: torchvision>0.9.0 in /usr/local/lib/python3.7/dist-packages (from deepforest) (0.13.0+cu113)\n",
            "Requirement already satisfied: pandas in /usr/local/lib/python3.7/dist-packages (from deepforest) (1.3.5)\n",
            "Requirement already satisfied: six in /usr/local/lib/python3.7/dist-packages (from deepforest) (1.15.0)\n",
            "Requirement already satisfied: geopandas in /usr/local/lib/python3.7/dist-packages (from deepforest) (0.10.2)\n",
            "Requirement already satisfied: rtree in /usr/local/lib/python3.7/dist-packages (from deepforest) (1.0.0)\n",
            "Requirement already satisfied: rasterio in /usr/local/lib/python3.7/dist-packages (from deepforest) (1.2.10)\n",
            "Requirement already satisfied: slidingwindow in /usr/local/lib/python3.7/dist-packages (from deepforest) (0.0.14)\n",
            "Requirement already satisfied: progressbar2 in /usr/local/lib/python3.7/dist-packages (from deepforest) (3.38.0)\n",
            "Requirement already satisfied: xmltodict in /usr/local/lib/python3.7/dist-packages (from deepforest) (0.13.0)\n",
            "Requirement already satisfied: Pillow>6.2.0 in /usr/local/lib/python3.7/dist-packages (from deepforest) (7.1.2)\n",
            "Requirement already satisfied: scipy>1.5 in /usr/local/lib/python3.7/dist-packages (from deepforest) (1.7.3)\n",
            "Requirement already satisfied: tqdm in /usr/local/lib/python3.7/dist-packages (from deepforest) (4.64.0)\n",
            "Requirement already satisfied: imagecodecs in /usr/local/lib/python3.7/dist-packages (from deepforest) (2021.11.20)\n",
            "Requirement already satisfied: matplotlib in /usr/local/lib/python3.7/dist-packages (from deepforest) (3.2.2)\n",
            "Requirement already satisfied: pytorch-lightning in /usr/local/lib/python3.7/dist-packages (from deepforest) (1.6.5)\n",
            "Requirement already satisfied: torch in /usr/local/lib/python3.7/dist-packages (from deepforest) (1.12.0+cu113)\n",
            "Requirement already satisfied: numpy in /usr/local/lib/python3.7/dist-packages (from deepforest) (1.21.6)\n",
            "Requirement already satisfied: albumentations in /usr/local/lib/python3.7/dist-packages (from deepforest) (0.1.12)\n",
            "Requirement already satisfied: typing-extensions in /usr/local/lib/python3.7/dist-packages (from torchvision>0.9.0->deepforest) (4.1.1)\n",
            "Requirement already satisfied: requests in /usr/local/lib/python3.7/dist-packages (from torchvision>0.9.0->deepforest) (2.23.0)\n",
            "Requirement already satisfied: imgaug<0.2.7,>=0.2.5 in /usr/local/lib/python3.7/dist-packages (from albumentations->deepforest) (0.2.6)\n",
            "Requirement already satisfied: opencv-python in /usr/local/lib/python3.7/dist-packages (from albumentations->deepforest) (4.6.0.66)\n",
            "Requirement already satisfied: scikit-image>=0.11.0 in /usr/local/lib/python3.7/dist-packages (from imgaug<0.2.7,>=0.2.5->albumentations->deepforest) (0.18.3)\n",
            "Requirement already satisfied: tifffile>=2019.7.26 in /usr/local/lib/python3.7/dist-packages (from scikit-image>=0.11.0->imgaug<0.2.7,>=0.2.5->albumentations->deepforest) (2021.11.2)\n",
            "Requirement already satisfied: imageio>=2.3.0 in /usr/local/lib/python3.7/dist-packages (from scikit-image>=0.11.0->imgaug<0.2.7,>=0.2.5->albumentations->deepforest) (2.4.1)\n",
            "Requirement already satisfied: PyWavelets>=1.1.1 in /usr/local/lib/python3.7/dist-packages (from scikit-image>=0.11.0->imgaug<0.2.7,>=0.2.5->albumentations->deepforest) (1.3.0)\n",
            "Requirement already satisfied: networkx>=2.0 in /usr/local/lib/python3.7/dist-packages (from scikit-image>=0.11.0->imgaug<0.2.7,>=0.2.5->albumentations->deepforest) (2.6.3)\n",
            "Requirement already satisfied: python-dateutil>=2.1 in /usr/local/lib/python3.7/dist-packages (from matplotlib->deepforest) (2.8.2)\n",
            "Requirement already satisfied: kiwisolver>=1.0.1 in /usr/local/lib/python3.7/dist-packages (from matplotlib->deepforest) (1.4.4)\n",
            "Requirement already satisfied: cycler>=0.10 in /usr/local/lib/python3.7/dist-packages (from matplotlib->deepforest) (0.11.0)\n",
            "Requirement already satisfied: pyparsing!=2.0.4,!=2.1.2,!=2.1.6,>=2.0.1 in /usr/local/lib/python3.7/dist-packages (from matplotlib->deepforest) (3.0.9)\n",
            "Requirement already satisfied: fiona>=1.8 in /usr/local/lib/python3.7/dist-packages (from geopandas->deepforest) (1.8.21)\n",
            "Requirement already satisfied: pyproj>=2.2.0 in /usr/local/lib/python3.7/dist-packages (from geopandas->deepforest) (3.2.1)\n",
            "Requirement already satisfied: shapely>=1.6 in /usr/local/lib/python3.7/dist-packages (from geopandas->deepforest) (1.8.2)\n",
            "Requirement already satisfied: click>=4.0 in /usr/local/lib/python3.7/dist-packages (from fiona>=1.8->geopandas->deepforest) (7.1.2)\n",
            "Requirement already satisfied: setuptools in /usr/local/lib/python3.7/dist-packages (from fiona>=1.8->geopandas->deepforest) (57.4.0)\n",
            "Requirement already satisfied: cligj>=0.5 in /usr/local/lib/python3.7/dist-packages (from fiona>=1.8->geopandas->deepforest) (0.7.2)\n",
            "Requirement already satisfied: munch in /usr/local/lib/python3.7/dist-packages (from fiona>=1.8->geopandas->deepforest) (2.5.0)\n",
            "Requirement already satisfied: certifi in /usr/local/lib/python3.7/dist-packages (from fiona>=1.8->geopandas->deepforest) (2022.6.15)\n",
            "Requirement already satisfied: attrs>=17 in /usr/local/lib/python3.7/dist-packages (from fiona>=1.8->geopandas->deepforest) (21.4.0)\n",
            "Requirement already satisfied: click-plugins>=1.0 in /usr/local/lib/python3.7/dist-packages (from fiona>=1.8->geopandas->deepforest) (1.1.1)\n",
            "Requirement already satisfied: pytz>=2017.3 in /usr/local/lib/python3.7/dist-packages (from pandas->deepforest) (2022.1)\n",
            "Requirement already satisfied: python-utils>=2.3.0 in /usr/local/lib/python3.7/dist-packages (from progressbar2->deepforest) (3.3.3)\n",
            "Requirement already satisfied: PyYAML>=5.4 in /usr/local/lib/python3.7/dist-packages (from pytorch-lightning->deepforest) (6.0)\n",
            "Requirement already satisfied: packaging>=17.0 in /usr/local/lib/python3.7/dist-packages (from pytorch-lightning->deepforest) (21.3)\n",
            "Requirement already satisfied: fsspec[http]!=2021.06.0,>=2021.05.0 in /usr/local/lib/python3.7/dist-packages (from pytorch-lightning->deepforest) (2022.7.0)\n",
            "Requirement already satisfied: protobuf<=3.20.1 in /usr/local/lib/python3.7/dist-packages (from pytorch-lightning->deepforest) (3.17.3)\n",
            "Requirement already satisfied: torchmetrics>=0.4.1 in /usr/local/lib/python3.7/dist-packages (from pytorch-lightning->deepforest) (0.9.3)\n",
            "Requirement already satisfied: tensorboard>=2.2.0 in /usr/local/lib/python3.7/dist-packages (from pytorch-lightning->deepforest) (2.8.0)\n",
            "Requirement already satisfied: pyDeprecate>=0.3.1 in /usr/local/lib/python3.7/dist-packages (from pytorch-lightning->deepforest) (0.3.2)\n",
            "Requirement already satisfied: aiohttp in /usr/local/lib/python3.7/dist-packages (from fsspec[http]!=2021.06.0,>=2021.05.0->pytorch-lightning->deepforest) (3.8.1)\n",
            "Requirement already satisfied: grpcio>=1.24.3 in /usr/local/lib/python3.7/dist-packages (from tensorboard>=2.2.0->pytorch-lightning->deepforest) (1.47.0)\n",
            "Requirement already satisfied: tensorboard-data-server<0.7.0,>=0.6.0 in /usr/local/lib/python3.7/dist-packages (from tensorboard>=2.2.0->pytorch-lightning->deepforest) (0.6.1)\n",
            "Requirement already satisfied: absl-py>=0.4 in /usr/local/lib/python3.7/dist-packages (from tensorboard>=2.2.0->pytorch-lightning->deepforest) (1.2.0)\n",
            "Requirement already satisfied: wheel>=0.26 in /usr/local/lib/python3.7/dist-packages (from tensorboard>=2.2.0->pytorch-lightning->deepforest) (0.37.1)\n",
            "Requirement already satisfied: google-auth<3,>=1.6.3 in /usr/local/lib/python3.7/dist-packages (from tensorboard>=2.2.0->pytorch-lightning->deepforest) (1.35.0)\n",
            "Requirement already satisfied: markdown>=2.6.8 in /usr/local/lib/python3.7/dist-packages (from tensorboard>=2.2.0->pytorch-lightning->deepforest) (3.4.1)\n",
            "Requirement already satisfied: tensorboard-plugin-wit>=1.6.0 in /usr/local/lib/python3.7/dist-packages (from tensorboard>=2.2.0->pytorch-lightning->deepforest) (1.8.1)\n",
            "Requirement already satisfied: google-auth-oauthlib<0.5,>=0.4.1 in /usr/local/lib/python3.7/dist-packages (from tensorboard>=2.2.0->pytorch-lightning->deepforest) (0.4.6)\n",
            "Requirement already satisfied: werkzeug>=0.11.15 in /usr/local/lib/python3.7/dist-packages (from tensorboard>=2.2.0->pytorch-lightning->deepforest) (1.0.1)\n",
            "Requirement already satisfied: pyasn1-modules>=0.2.1 in /usr/local/lib/python3.7/dist-packages (from google-auth<3,>=1.6.3->tensorboard>=2.2.0->pytorch-lightning->deepforest) (0.2.8)\n",
            "Requirement already satisfied: rsa<5,>=3.1.4 in /usr/local/lib/python3.7/dist-packages (from google-auth<3,>=1.6.3->tensorboard>=2.2.0->pytorch-lightning->deepforest) (4.9)\n",
            "Requirement already satisfied: cachetools<5.0,>=2.0.0 in /usr/local/lib/python3.7/dist-packages (from google-auth<3,>=1.6.3->tensorboard>=2.2.0->pytorch-lightning->deepforest) (4.2.4)\n",
            "Requirement already satisfied: requests-oauthlib>=0.7.0 in /usr/local/lib/python3.7/dist-packages (from google-auth-oauthlib<0.5,>=0.4.1->tensorboard>=2.2.0->pytorch-lightning->deepforest) (1.3.1)\n",
            "Requirement already satisfied: importlib-metadata>=4.4 in /usr/local/lib/python3.7/dist-packages (from markdown>=2.6.8->tensorboard>=2.2.0->pytorch-lightning->deepforest) (4.12.0)\n",
            "Requirement already satisfied: zipp>=0.5 in /usr/local/lib/python3.7/dist-packages (from importlib-metadata>=4.4->markdown>=2.6.8->tensorboard>=2.2.0->pytorch-lightning->deepforest) (3.8.1)\n",
            "Requirement already satisfied: pyasn1<0.5.0,>=0.4.6 in /usr/local/lib/python3.7/dist-packages (from pyasn1-modules>=0.2.1->google-auth<3,>=1.6.3->tensorboard>=2.2.0->pytorch-lightning->deepforest) (0.4.8)\n",
            "Requirement already satisfied: urllib3!=1.25.0,!=1.25.1,<1.26,>=1.21.1 in /usr/local/lib/python3.7/dist-packages (from requests->torchvision>0.9.0->deepforest) (1.24.3)\n",
            "Requirement already satisfied: chardet<4,>=3.0.2 in /usr/local/lib/python3.7/dist-packages (from requests->torchvision>0.9.0->deepforest) (3.0.4)\n",
            "Requirement already satisfied: idna<3,>=2.5 in /usr/local/lib/python3.7/dist-packages (from requests->torchvision>0.9.0->deepforest) (2.10)\n",
            "Requirement already satisfied: oauthlib>=3.0.0 in /usr/local/lib/python3.7/dist-packages (from requests-oauthlib>=0.7.0->google-auth-oauthlib<0.5,>=0.4.1->tensorboard>=2.2.0->pytorch-lightning->deepforest) (3.2.0)\n",
            "Requirement already satisfied: async-timeout<5.0,>=4.0.0a3 in /usr/local/lib/python3.7/dist-packages (from aiohttp->fsspec[http]!=2021.06.0,>=2021.05.0->pytorch-lightning->deepforest) (4.0.2)\n",
            "Requirement already satisfied: frozenlist>=1.1.1 in /usr/local/lib/python3.7/dist-packages (from aiohttp->fsspec[http]!=2021.06.0,>=2021.05.0->pytorch-lightning->deepforest) (1.3.0)\n",
            "Requirement already satisfied: charset-normalizer<3.0,>=2.0 in /usr/local/lib/python3.7/dist-packages (from aiohttp->fsspec[http]!=2021.06.0,>=2021.05.0->pytorch-lightning->deepforest) (2.1.0)\n",
            "Requirement already satisfied: asynctest==0.13.0 in /usr/local/lib/python3.7/dist-packages (from aiohttp->fsspec[http]!=2021.06.0,>=2021.05.0->pytorch-lightning->deepforest) (0.13.0)\n",
            "Requirement already satisfied: yarl<2.0,>=1.0 in /usr/local/lib/python3.7/dist-packages (from aiohttp->fsspec[http]!=2021.06.0,>=2021.05.0->pytorch-lightning->deepforest) (1.7.2)\n",
            "Requirement already satisfied: multidict<7.0,>=4.5 in /usr/local/lib/python3.7/dist-packages (from aiohttp->fsspec[http]!=2021.06.0,>=2021.05.0->pytorch-lightning->deepforest) (6.0.2)\n",
            "Requirement already satisfied: aiosignal>=1.1.2 in /usr/local/lib/python3.7/dist-packages (from aiohttp->fsspec[http]!=2021.06.0,>=2021.05.0->pytorch-lightning->deepforest) (1.2.0)\n",
            "Requirement already satisfied: snuggs>=1.4.1 in /usr/local/lib/python3.7/dist-packages (from rasterio->deepforest) (1.4.7)\n",
            "Requirement already satisfied: affine in /usr/local/lib/python3.7/dist-packages (from rasterio->deepforest) (2.3.1)\n",
            "Requirement already satisfied: psutil in /usr/local/lib/python3.7/dist-packages (from slidingwindow->deepforest) (5.4.8)\n"
          ]
        }
      ]
    },
    {
      "cell_type": "code",
      "metadata": {
        "id": "FN9_wEhNX4xl"
      },
      "source": [
        "#pip install git+https://github.com/weecology/DeepForest.git"
      ],
      "execution_count": 2,
      "outputs": []
    },
    {
      "cell_type": "code",
      "metadata": {
        "id": "uraEWunn9VSz",
        "colab": {
          "base_uri": "https://localhost:8080/",
          "height": 519
        },
        "outputId": "5f609b2d-f7bb-417b-fd7c-d9aa132cf166"
      },
      "source": [
        "#load the modules\n",
        "import os\n",
        "import time\n",
        "import numpy as np\n",
        "from deepforest import main \n",
        "from deepforest import get_data\n",
        "from deepforest import utilities\n",
        "from deepforest import preprocess\n"
      ],
      "execution_count": 5,
      "outputs": [
        {
          "output_type": "error",
          "ename": "ImportError",
          "evalue": "ignored",
          "traceback": [
            "\u001b[0;31m---------------------------------------------------------------------------\u001b[0m",
            "\u001b[0;31mImportError\u001b[0m                               Traceback (most recent call last)",
            "\u001b[0;32m<ipython-input-5-7da00e819a2e>\u001b[0m in \u001b[0;36m<module>\u001b[0;34m()\u001b[0m\n\u001b[1;32m      3\u001b[0m \u001b[0;32mimport\u001b[0m \u001b[0mtime\u001b[0m\u001b[0;34m\u001b[0m\u001b[0;34m\u001b[0m\u001b[0m\n\u001b[1;32m      4\u001b[0m \u001b[0;32mimport\u001b[0m \u001b[0mnumpy\u001b[0m \u001b[0;32mas\u001b[0m \u001b[0mnp\u001b[0m\u001b[0;34m\u001b[0m\u001b[0;34m\u001b[0m\u001b[0m\n\u001b[0;32m----> 5\u001b[0;31m \u001b[0;32mfrom\u001b[0m \u001b[0mdeepforest\u001b[0m \u001b[0;32mimport\u001b[0m \u001b[0mmain\u001b[0m\u001b[0;34m\u001b[0m\u001b[0;34m\u001b[0m\u001b[0m\n\u001b[0m\u001b[1;32m      6\u001b[0m \u001b[0;32mfrom\u001b[0m \u001b[0mdeepforest\u001b[0m \u001b[0;32mimport\u001b[0m \u001b[0mget_data\u001b[0m\u001b[0;34m\u001b[0m\u001b[0;34m\u001b[0m\u001b[0m\n\u001b[1;32m      7\u001b[0m \u001b[0;32mfrom\u001b[0m \u001b[0mdeepforest\u001b[0m \u001b[0;32mimport\u001b[0m \u001b[0mutilities\u001b[0m\u001b[0;34m\u001b[0m\u001b[0;34m\u001b[0m\u001b[0m\n",
            "\u001b[0;32m/usr/local/lib/python3.7/dist-packages/deepforest/main.py\u001b[0m in \u001b[0;36m<module>\u001b[0;34m()\u001b[0m\n\u001b[1;32m     10\u001b[0m \u001b[0;34m\u001b[0m\u001b[0m\n\u001b[1;32m     11\u001b[0m \u001b[0;32mfrom\u001b[0m \u001b[0mdeepforest\u001b[0m \u001b[0;32mimport\u001b[0m \u001b[0mutilities\u001b[0m\u001b[0;34m\u001b[0m\u001b[0;34m\u001b[0m\u001b[0m\n\u001b[0;32m---> 12\u001b[0;31m \u001b[0;32mfrom\u001b[0m \u001b[0mdeepforest\u001b[0m \u001b[0;32mimport\u001b[0m \u001b[0mdataset\u001b[0m\u001b[0;34m\u001b[0m\u001b[0;34m\u001b[0m\u001b[0m\n\u001b[0m\u001b[1;32m     13\u001b[0m \u001b[0;32mfrom\u001b[0m \u001b[0mdeepforest\u001b[0m \u001b[0;32mimport\u001b[0m \u001b[0mget_data\u001b[0m\u001b[0;34m\u001b[0m\u001b[0;34m\u001b[0m\u001b[0m\n\u001b[1;32m     14\u001b[0m \u001b[0;32mfrom\u001b[0m \u001b[0mdeepforest\u001b[0m \u001b[0;32mimport\u001b[0m \u001b[0mmodel\u001b[0m\u001b[0;34m\u001b[0m\u001b[0;34m\u001b[0m\u001b[0m\n",
            "\u001b[0;32m/usr/local/lib/python3.7/dist-packages/deepforest/dataset.py\u001b[0m in \u001b[0;36m<module>\u001b[0;34m()\u001b[0m\n\u001b[1;32m     18\u001b[0m \u001b[0;32mfrom\u001b[0m \u001b[0mtorch\u001b[0m\u001b[0;34m.\u001b[0m\u001b[0mutils\u001b[0m\u001b[0;34m.\u001b[0m\u001b[0mdata\u001b[0m \u001b[0;32mimport\u001b[0m \u001b[0mDataset\u001b[0m\u001b[0;34m\u001b[0m\u001b[0;34m\u001b[0m\u001b[0m\n\u001b[1;32m     19\u001b[0m \u001b[0;32mimport\u001b[0m \u001b[0malbumentations\u001b[0m \u001b[0;32mas\u001b[0m \u001b[0mA\u001b[0m\u001b[0;34m\u001b[0m\u001b[0;34m\u001b[0m\u001b[0m\n\u001b[0;32m---> 20\u001b[0;31m \u001b[0;32mfrom\u001b[0m \u001b[0malbumentations\u001b[0m \u001b[0;32mimport\u001b[0m \u001b[0mfunctional\u001b[0m \u001b[0;32mas\u001b[0m \u001b[0mF\u001b[0m\u001b[0;34m\u001b[0m\u001b[0;34m\u001b[0m\u001b[0m\n\u001b[0m\u001b[1;32m     21\u001b[0m \u001b[0;32mfrom\u001b[0m \u001b[0malbumentations\u001b[0m\u001b[0;34m.\u001b[0m\u001b[0mpytorch\u001b[0m \u001b[0;32mimport\u001b[0m \u001b[0mToTensorV2\u001b[0m\u001b[0;34m\u001b[0m\u001b[0;34m\u001b[0m\u001b[0m\n\u001b[1;32m     22\u001b[0m \u001b[0;32mimport\u001b[0m \u001b[0mtorch\u001b[0m\u001b[0;34m\u001b[0m\u001b[0;34m\u001b[0m\u001b[0m\n",
            "\u001b[0;31mImportError\u001b[0m: cannot import name 'functional' from 'albumentations' (/usr/local/lib/python3.7/dist-packages/albumentations/__init__.py)",
            "",
            "\u001b[0;31m---------------------------------------------------------------------------\u001b[0;32m\nNOTE: If your import is failing due to a missing package, you can\nmanually install dependencies using either !pip or !apt.\n\nTo view examples of installing some common dependencies, click the\n\"Open Examples\" button below.\n\u001b[0;31m---------------------------------------------------------------------------\u001b[0m\n"
          ],
          "errorDetails": {
            "actions": [
              {
                "action": "open_url",
                "actionText": "Open Examples",
                "url": "/notebooks/snippets/importing_libraries.ipynb"
              }
            ]
          }
        }
      ]
    },
    {
      "cell_type": "code",
      "metadata": {
        "id": "f8MKNC3_Zrxk"
      },
      "source": [
        "#convert hand annotations from xml into retinanet format\n",
        "#The get_data function is only needed when fetching sample package data\n",
        "YELL_xml = get_data(\"2019_YELL_2_528000_4978000_image_crop2.xml\")\n",
        "annotation = utilities.xml_to_annotations(YELL_xml)\n",
        "annotation.head()"
      ],
      "execution_count": null,
      "outputs": []
    },
    {
      "cell_type": "code",
      "metadata": {
        "id": "Q15bw6tFbmO_"
      },
      "source": [
        "#load the image file corresponding to the annotaion file\n",
        "YELL_train = get_data(\"2019_YELL_2_528000_4978000_image_crop2.png\")\n",
        "image_path = os.path.dirname(YELL_train)\n",
        "#Write converted dataframe to file. Saved alongside the images\n",
        "annotation.to_csv(os.path.join(image_path,\"train_example.csv\"), index=False)"
      ],
      "execution_count": null,
      "outputs": []
    },
    {
      "cell_type": "markdown",
      "metadata": {
        "id": "n1e9vwIz1KIv"
      },
      "source": [
        "## Prepare Training and Validation Data\n",
        "  - 75% Training Data\n",
        "  - 25% Validation Data"
      ]
    },
    {
      "cell_type": "code",
      "metadata": {
        "id": "A2xN5e1M9dbC"
      },
      "source": [
        "#Find annotation path\n",
        "annotation_path = os.path.join(image_path,\"train_example.csv\")\n",
        "#crop images will save in a newly created directory\n",
        "#os.mkdir(os.getcwd(),'train_data_folder')\n",
        "crop_dir = os.path.join(os.getcwd(),'train_data_folder')\n",
        "train_annotations= preprocess.split_raster(path_to_raster=YELL_train,\n",
        "                                 annotations_file=annotation_path,\n",
        "                                 base_dir=crop_dir,\n",
        "                                 patch_size=400,\n",
        "                                 patch_overlap=0.05)"
      ],
      "execution_count": null,
      "outputs": []
    },
    {
      "cell_type": "code",
      "metadata": {
        "id": "UJA1nlvf0sSw"
      },
      "source": [
        "#Split image crops into training and test. Normally these would be different tiles! Just as an example.\n",
        "image_paths = train_annotations.image_path.unique()\n",
        "#split 25% validation annotation\n",
        "valid_paths = np.random.choice(image_paths, int(len(image_paths)*0.25) )\n",
        "valid_annotations = train_annotations.loc[train_annotations.image_path.isin(valid_paths)]\n",
        "train_annotations = train_annotations.loc[~train_annotations.image_path.isin(valid_paths)]"
      ],
      "execution_count": null,
      "outputs": []
    },
    {
      "cell_type": "code",
      "metadata": {
        "id": "RGYj9paS1Fmv"
      },
      "source": [
        "#View output\n",
        "train_annotations.head()\n",
        "print(\"There are {} training crown annotations\".format(train_annotations.shape[0]))\n",
        "print(\"There are {} test crown annotations\".format(valid_annotations.shape[0]))\n",
        "\n",
        "#save to file and create the file dir\n",
        "annotations_file= os.path.join(crop_dir,\"train.csv\")\n",
        "validation_file= os.path.join(crop_dir,\"valid.csv\")\n",
        "#Write window annotations file without a header row, same location as the \"base_dir\" above.\n",
        "train_annotations.to_csv(annotations_file,index=False)\n",
        "valid_annotations.to_csv(validation_file,index=False)"
      ],
      "execution_count": null,
      "outputs": []
    },
    {
      "cell_type": "code",
      "metadata": {
        "id": "FTfs4BT558h_"
      },
      "source": [
        "annotations_file"
      ],
      "execution_count": null,
      "outputs": []
    },
    {
      "cell_type": "markdown",
      "metadata": {
        "id": "F9d3PPAsnnxY"
      },
      "source": [
        "## Training & Evaluating Using CPU"
      ]
    },
    {
      "cell_type": "code",
      "metadata": {
        "id": "QexmZiHLkBou"
      },
      "source": [
        "#initial the model and change the corresponding config file\n",
        "m = main.deepforest()\n",
        "m.config[\"train\"][\"csv_file\"] = annotations_file\n",
        "m.config[\"train\"][\"root_dir\"] = os.path.dirname(annotations_file)\n",
        "#Since this is a demo example and we aren't training for long, only show the higher quality boxes\n",
        "m.config[\"score_thresh\"] = 0.4\n",
        "m.config[\"train\"]['epochs'] = 2\n",
        "m.config[\"validation\"][\"csv_file\"] = validation_file\n",
        "m.config[\"validation\"][\"root_dir\"] = os.path.dirname(validation_file)\n",
        "#create a pytorch lighting trainer used to training \n",
        "m.create_trainer()\n",
        "#load the lastest release model \n",
        "m.use_release()"
      ],
      "execution_count": null,
      "outputs": []
    },
    {
      "cell_type": "code",
      "metadata": {
        "id": "QWVU32TqoKWY"
      },
      "source": [
        "start_time = time.time()\n",
        "m.trainer.fit(m)\n",
        "print(f\"--- Training on CPU: {(time.time() - start_time):.2f} seconds ---\")"
      ],
      "execution_count": null,
      "outputs": []
    },
    {
      "cell_type": "code",
      "metadata": {
        "id": "pyrTGKprWlxB"
      },
      "source": [
        "m.get_transform"
      ],
      "execution_count": null,
      "outputs": []
    },
    {
      "cell_type": "code",
      "metadata": {
        "id": "uk58qMQUwccP"
      },
      "source": [
        "#create a directory to save the predict image\n",
        "save_dir = os.path.join(os.getcwd(),'pred_result')\n",
        "try:\n",
        "  os.mkdir(save_dir)\n",
        "except FileExistsError:\n",
        "  pass\n",
        "results = m.evaluate(annotations_file, os.path.dirname(annotations_file), iou_threshold = 0.4, savedir = save_dir)"
      ],
      "execution_count": null,
      "outputs": []
    },
    {
      "cell_type": "markdown",
      "metadata": {
        "id": "XfJdHhJeqzvJ"
      },
      "source": [
        "## Training & Evaluating Using GPU"
      ]
    },
    {
      "cell_type": "code",
      "metadata": {
        "id": "7tptH6R49vhd"
      },
      "source": [
        "#initial the model and change the corresponding config file\n",
        "m = main.deepforest()\n",
        "m.config['gpus'] = '-1' #move to GPU and use all the GPU resources\n",
        "m.config[\"train\"][\"csv_file\"] = annotations_file\n",
        "m.config[\"train\"][\"root_dir\"] = os.path.dirname(annotations_file)\n",
        "m.config[\"score_thresh\"] = 0.4\n",
        "m.config[\"train\"]['epochs'] = 2\n",
        "m.config[\"validation\"][\"csv_file\"] = validation_file\n",
        "m.config[\"validation\"][\"root_dir\"] = os.path.dirname(validation_file)\n",
        "#create a pytorch lighting trainer used to training \n",
        "m.create_trainer()\n",
        "#load the lastest release model \n",
        "m.use_release()"
      ],
      "execution_count": null,
      "outputs": []
    },
    {
      "cell_type": "code",
      "metadata": {
        "id": "dFeh70YGAfV9"
      },
      "source": [
        "start_time = time.time()\n",
        "m.trainer.fit(m)\n",
        "print(f\"--- Training on GPU: {(time.time() - start_time):.2f} seconds ---\")"
      ],
      "execution_count": null,
      "outputs": []
    },
    {
      "cell_type": "code",
      "metadata": {
        "id": "j5m8U0f2BJc8"
      },
      "source": [
        "#save the prediction result to a prediction folder\n",
        "save_dir = os.path.join(os.getcwd(),'pred_result')\n",
        "try:\n",
        "  os.mkdir(save_dir)\n",
        "except FileExistsError:\n",
        "  pass\n",
        "results = m.evaluate(annotations_file, os.path.dirname(annotations_file), iou_threshold = 0.4, savedir= save_dir)"
      ],
      "execution_count": null,
      "outputs": []
    },
    {
      "cell_type": "code",
      "metadata": {
        "id": "DkafEko8bkzI"
      },
      "source": [
        "results"
      ],
      "execution_count": null,
      "outputs": []
    },
    {
      "cell_type": "code",
      "metadata": {
        "id": "kDtDftbRb0mK"
      },
      "source": [
        "results['box_precision']"
      ],
      "execution_count": null,
      "outputs": []
    },
    {
      "cell_type": "code",
      "metadata": {
        "id": "kHWe22kTd1fJ"
      },
      "source": [
        "results[\"box_recall\"]"
      ],
      "execution_count": null,
      "outputs": []
    },
    {
      "cell_type": "code",
      "metadata": {
        "id": "gXMYUH6Ld3_K"
      },
      "source": [
        "results[\"results\"]"
      ],
      "execution_count": null,
      "outputs": []
    },
    {
      "cell_type": "code",
      "metadata": {
        "id": "P4c_ORlpd62D"
      },
      "source": [
        "results[\"class_recall\"]"
      ],
      "execution_count": null,
      "outputs": []
    },
    {
      "cell_type": "code",
      "metadata": {
        "id": "eNcHOs5WeAKf"
      },
      "source": [
        ""
      ],
      "execution_count": null,
      "outputs": []
    }
  ]
}
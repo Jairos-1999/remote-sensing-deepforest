{
 "cells": [
  {
   "cell_type": "code",
   "execution_count": null,
   "id": "5822ac78",
   "metadata": {},
   "outputs": [],
   "source": [
    "from deepforest import main\n",
    "import cv2"
   ]
  },
  {
   "cell_type": "code",
   "execution_count": null,
   "id": "f3199c9e",
   "metadata": {},
   "outputs": [],
   "source": [
    "img_path = 'C:\\bin\\python\\jupyter-notebook\\remote-sensing-deepforest\\images\\2-zomba.png'\n",
    "img = cv2.imread(img_path)\n",
    "type(main)\n",
    "#my_model = deepforest.deepforest()\n",
    "#my_model.use_release()"
   ]
  },
  {
   "cell_type": "code",
   "execution_count": null,
   "id": "d57c8a9a",
   "metadata": {},
   "outputs": [],
   "source": []
  }
 ],
 "metadata": {
  "kernelspec": {
   "display_name": "Python 3 (ipykernel)",
   "language": "python",
   "name": "python3"
  },
  "language_info": {
   "codemirror_mode": {
    "name": "ipython",
    "version": 3
   },
   "file_extension": ".py",
   "mimetype": "text/x-python",
   "name": "python",
   "nbconvert_exporter": "python",
   "pygments_lexer": "ipython3",
   "version": "3.10.5"
  }
 },
 "nbformat": 4,
 "nbformat_minor": 5
}
